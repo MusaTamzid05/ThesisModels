{
 "cells": [
  {
   "cell_type": "code",
   "execution_count": 1,
   "metadata": {
    "collapsed": true
   },
   "outputs": [],
   "source": [
    "import pandas as pd\n",
    "import numpy as np\n",
    "from matplotlib import pyplot as plt"
   ]
  },
  {
   "cell_type": "code",
   "execution_count": 2,
   "metadata": {},
   "outputs": [
    {
     "data": {
      "text/html": [
       "<div>\n",
       "<style>\n",
       "    .dataframe thead tr:only-child th {\n",
       "        text-align: right;\n",
       "    }\n",
       "\n",
       "    .dataframe thead th {\n",
       "        text-align: left;\n",
       "    }\n",
       "\n",
       "    .dataframe tbody tr th {\n",
       "        vertical-align: top;\n",
       "    }\n",
       "</style>\n",
       "<table border=\"1\" class=\"dataframe\">\n",
       "  <thead>\n",
       "    <tr style=\"text-align: right;\">\n",
       "      <th></th>\n",
       "      <th>age</th>\n",
       "      <th>sex</th>\n",
       "      <th>cp</th>\n",
       "      <th>trestbps</th>\n",
       "      <th>chol</th>\n",
       "      <th>fbs</th>\n",
       "      <th>restecg</th>\n",
       "      <th>thalach</th>\n",
       "      <th>exang</th>\n",
       "      <th>oldpeak</th>\n",
       "      <th>slope</th>\n",
       "      <th>ca</th>\n",
       "      <th>thal</th>\n",
       "      <th>target</th>\n",
       "    </tr>\n",
       "  </thead>\n",
       "  <tbody>\n",
       "    <tr>\n",
       "      <th>0</th>\n",
       "      <td>63</td>\n",
       "      <td>1</td>\n",
       "      <td>3</td>\n",
       "      <td>145</td>\n",
       "      <td>233</td>\n",
       "      <td>1</td>\n",
       "      <td>0</td>\n",
       "      <td>150</td>\n",
       "      <td>0</td>\n",
       "      <td>2.3</td>\n",
       "      <td>0</td>\n",
       "      <td>0</td>\n",
       "      <td>1</td>\n",
       "      <td>1</td>\n",
       "    </tr>\n",
       "    <tr>\n",
       "      <th>1</th>\n",
       "      <td>37</td>\n",
       "      <td>1</td>\n",
       "      <td>2</td>\n",
       "      <td>130</td>\n",
       "      <td>250</td>\n",
       "      <td>0</td>\n",
       "      <td>1</td>\n",
       "      <td>187</td>\n",
       "      <td>0</td>\n",
       "      <td>3.5</td>\n",
       "      <td>0</td>\n",
       "      <td>0</td>\n",
       "      <td>2</td>\n",
       "      <td>1</td>\n",
       "    </tr>\n",
       "    <tr>\n",
       "      <th>2</th>\n",
       "      <td>41</td>\n",
       "      <td>0</td>\n",
       "      <td>1</td>\n",
       "      <td>130</td>\n",
       "      <td>204</td>\n",
       "      <td>0</td>\n",
       "      <td>0</td>\n",
       "      <td>172</td>\n",
       "      <td>0</td>\n",
       "      <td>1.4</td>\n",
       "      <td>2</td>\n",
       "      <td>0</td>\n",
       "      <td>2</td>\n",
       "      <td>1</td>\n",
       "    </tr>\n",
       "    <tr>\n",
       "      <th>3</th>\n",
       "      <td>56</td>\n",
       "      <td>1</td>\n",
       "      <td>1</td>\n",
       "      <td>120</td>\n",
       "      <td>236</td>\n",
       "      <td>0</td>\n",
       "      <td>1</td>\n",
       "      <td>178</td>\n",
       "      <td>0</td>\n",
       "      <td>0.8</td>\n",
       "      <td>2</td>\n",
       "      <td>0</td>\n",
       "      <td>2</td>\n",
       "      <td>1</td>\n",
       "    </tr>\n",
       "    <tr>\n",
       "      <th>4</th>\n",
       "      <td>57</td>\n",
       "      <td>0</td>\n",
       "      <td>0</td>\n",
       "      <td>120</td>\n",
       "      <td>354</td>\n",
       "      <td>0</td>\n",
       "      <td>1</td>\n",
       "      <td>163</td>\n",
       "      <td>1</td>\n",
       "      <td>0.6</td>\n",
       "      <td>2</td>\n",
       "      <td>0</td>\n",
       "      <td>2</td>\n",
       "      <td>1</td>\n",
       "    </tr>\n",
       "  </tbody>\n",
       "</table>\n",
       "</div>"
      ],
      "text/plain": [
       "   age  sex  cp  trestbps  chol  fbs  restecg  thalach  exang  oldpeak  slope  \\\n",
       "0   63    1   3       145   233    1        0      150      0      2.3      0   \n",
       "1   37    1   2       130   250    0        1      187      0      3.5      0   \n",
       "2   41    0   1       130   204    0        0      172      0      1.4      2   \n",
       "3   56    1   1       120   236    0        1      178      0      0.8      2   \n",
       "4   57    0   0       120   354    0        1      163      1      0.6      2   \n",
       "\n",
       "   ca  thal  target  \n",
       "0   0     1       1  \n",
       "1   0     2       1  \n",
       "2   0     2       1  \n",
       "3   0     2       1  \n",
       "4   0     2       1  "
      ]
     },
     "execution_count": 2,
     "metadata": {},
     "output_type": "execute_result"
    }
   ],
   "source": [
    "heart_data = pd.read_csv(\"./heart.csv\")\n",
    "heart_data.head()"
   ]
  },
  {
   "cell_type": "code",
   "execution_count": 3,
   "metadata": {},
   "outputs": [
    {
     "name": "stdout",
     "output_type": "stream",
     "text": [
      "<class 'pandas.core.frame.DataFrame'>\n",
      "RangeIndex: 303 entries, 0 to 302\n",
      "Data columns (total 14 columns):\n",
      "age         303 non-null int64\n",
      "sex         303 non-null int64\n",
      "cp          303 non-null int64\n",
      "trestbps    303 non-null int64\n",
      "chol        303 non-null int64\n",
      "fbs         303 non-null int64\n",
      "restecg     303 non-null int64\n",
      "thalach     303 non-null int64\n",
      "exang       303 non-null int64\n",
      "oldpeak     303 non-null float64\n",
      "slope       303 non-null int64\n",
      "ca          303 non-null int64\n",
      "thal        303 non-null int64\n",
      "target      303 non-null int64\n",
      "dtypes: float64(1), int64(13)\n",
      "memory usage: 33.2 KB\n"
     ]
    }
   ],
   "source": [
    "heart_data.info()"
   ]
  },
  {
   "cell_type": "code",
   "execution_count": 4,
   "metadata": {},
   "outputs": [
    {
     "data": {
      "text/html": [
       "<div>\n",
       "<style>\n",
       "    .dataframe thead tr:only-child th {\n",
       "        text-align: right;\n",
       "    }\n",
       "\n",
       "    .dataframe thead th {\n",
       "        text-align: left;\n",
       "    }\n",
       "\n",
       "    .dataframe tbody tr th {\n",
       "        vertical-align: top;\n",
       "    }\n",
       "</style>\n",
       "<table border=\"1\" class=\"dataframe\">\n",
       "  <thead>\n",
       "    <tr style=\"text-align: right;\">\n",
       "      <th></th>\n",
       "      <th>age</th>\n",
       "      <th>sex</th>\n",
       "      <th>cp</th>\n",
       "      <th>trestbps</th>\n",
       "      <th>chol</th>\n",
       "      <th>fbs</th>\n",
       "      <th>restecg</th>\n",
       "      <th>thalach</th>\n",
       "      <th>exang</th>\n",
       "      <th>oldpeak</th>\n",
       "      <th>slope</th>\n",
       "      <th>ca</th>\n",
       "      <th>thal</th>\n",
       "      <th>target</th>\n",
       "    </tr>\n",
       "  </thead>\n",
       "  <tbody>\n",
       "    <tr>\n",
       "      <th>count</th>\n",
       "      <td>303.000000</td>\n",
       "      <td>303.000000</td>\n",
       "      <td>303.000000</td>\n",
       "      <td>303.000000</td>\n",
       "      <td>303.000000</td>\n",
       "      <td>303.000000</td>\n",
       "      <td>303.000000</td>\n",
       "      <td>303.000000</td>\n",
       "      <td>303.000000</td>\n",
       "      <td>303.000000</td>\n",
       "      <td>303.000000</td>\n",
       "      <td>303.000000</td>\n",
       "      <td>303.000000</td>\n",
       "      <td>303.000000</td>\n",
       "    </tr>\n",
       "    <tr>\n",
       "      <th>mean</th>\n",
       "      <td>54.366337</td>\n",
       "      <td>0.683168</td>\n",
       "      <td>0.966997</td>\n",
       "      <td>131.623762</td>\n",
       "      <td>246.264026</td>\n",
       "      <td>0.148515</td>\n",
       "      <td>0.528053</td>\n",
       "      <td>149.646865</td>\n",
       "      <td>0.326733</td>\n",
       "      <td>1.039604</td>\n",
       "      <td>1.399340</td>\n",
       "      <td>0.729373</td>\n",
       "      <td>2.313531</td>\n",
       "      <td>0.544554</td>\n",
       "    </tr>\n",
       "    <tr>\n",
       "      <th>std</th>\n",
       "      <td>9.082101</td>\n",
       "      <td>0.466011</td>\n",
       "      <td>1.032052</td>\n",
       "      <td>17.538143</td>\n",
       "      <td>51.830751</td>\n",
       "      <td>0.356198</td>\n",
       "      <td>0.525860</td>\n",
       "      <td>22.905161</td>\n",
       "      <td>0.469794</td>\n",
       "      <td>1.161075</td>\n",
       "      <td>0.616226</td>\n",
       "      <td>1.022606</td>\n",
       "      <td>0.612277</td>\n",
       "      <td>0.498835</td>\n",
       "    </tr>\n",
       "    <tr>\n",
       "      <th>min</th>\n",
       "      <td>29.000000</td>\n",
       "      <td>0.000000</td>\n",
       "      <td>0.000000</td>\n",
       "      <td>94.000000</td>\n",
       "      <td>126.000000</td>\n",
       "      <td>0.000000</td>\n",
       "      <td>0.000000</td>\n",
       "      <td>71.000000</td>\n",
       "      <td>0.000000</td>\n",
       "      <td>0.000000</td>\n",
       "      <td>0.000000</td>\n",
       "      <td>0.000000</td>\n",
       "      <td>0.000000</td>\n",
       "      <td>0.000000</td>\n",
       "    </tr>\n",
       "    <tr>\n",
       "      <th>25%</th>\n",
       "      <td>47.500000</td>\n",
       "      <td>0.000000</td>\n",
       "      <td>0.000000</td>\n",
       "      <td>120.000000</td>\n",
       "      <td>211.000000</td>\n",
       "      <td>0.000000</td>\n",
       "      <td>0.000000</td>\n",
       "      <td>133.500000</td>\n",
       "      <td>0.000000</td>\n",
       "      <td>0.000000</td>\n",
       "      <td>1.000000</td>\n",
       "      <td>0.000000</td>\n",
       "      <td>2.000000</td>\n",
       "      <td>0.000000</td>\n",
       "    </tr>\n",
       "    <tr>\n",
       "      <th>50%</th>\n",
       "      <td>55.000000</td>\n",
       "      <td>1.000000</td>\n",
       "      <td>1.000000</td>\n",
       "      <td>130.000000</td>\n",
       "      <td>240.000000</td>\n",
       "      <td>0.000000</td>\n",
       "      <td>1.000000</td>\n",
       "      <td>153.000000</td>\n",
       "      <td>0.000000</td>\n",
       "      <td>0.800000</td>\n",
       "      <td>1.000000</td>\n",
       "      <td>0.000000</td>\n",
       "      <td>2.000000</td>\n",
       "      <td>1.000000</td>\n",
       "    </tr>\n",
       "    <tr>\n",
       "      <th>75%</th>\n",
       "      <td>61.000000</td>\n",
       "      <td>1.000000</td>\n",
       "      <td>2.000000</td>\n",
       "      <td>140.000000</td>\n",
       "      <td>274.500000</td>\n",
       "      <td>0.000000</td>\n",
       "      <td>1.000000</td>\n",
       "      <td>166.000000</td>\n",
       "      <td>1.000000</td>\n",
       "      <td>1.600000</td>\n",
       "      <td>2.000000</td>\n",
       "      <td>1.000000</td>\n",
       "      <td>3.000000</td>\n",
       "      <td>1.000000</td>\n",
       "    </tr>\n",
       "    <tr>\n",
       "      <th>max</th>\n",
       "      <td>77.000000</td>\n",
       "      <td>1.000000</td>\n",
       "      <td>3.000000</td>\n",
       "      <td>200.000000</td>\n",
       "      <td>564.000000</td>\n",
       "      <td>1.000000</td>\n",
       "      <td>2.000000</td>\n",
       "      <td>202.000000</td>\n",
       "      <td>1.000000</td>\n",
       "      <td>6.200000</td>\n",
       "      <td>2.000000</td>\n",
       "      <td>4.000000</td>\n",
       "      <td>3.000000</td>\n",
       "      <td>1.000000</td>\n",
       "    </tr>\n",
       "  </tbody>\n",
       "</table>\n",
       "</div>"
      ],
      "text/plain": [
       "              age         sex          cp    trestbps        chol         fbs  \\\n",
       "count  303.000000  303.000000  303.000000  303.000000  303.000000  303.000000   \n",
       "mean    54.366337    0.683168    0.966997  131.623762  246.264026    0.148515   \n",
       "std      9.082101    0.466011    1.032052   17.538143   51.830751    0.356198   \n",
       "min     29.000000    0.000000    0.000000   94.000000  126.000000    0.000000   \n",
       "25%     47.500000    0.000000    0.000000  120.000000  211.000000    0.000000   \n",
       "50%     55.000000    1.000000    1.000000  130.000000  240.000000    0.000000   \n",
       "75%     61.000000    1.000000    2.000000  140.000000  274.500000    0.000000   \n",
       "max     77.000000    1.000000    3.000000  200.000000  564.000000    1.000000   \n",
       "\n",
       "          restecg     thalach       exang     oldpeak       slope          ca  \\\n",
       "count  303.000000  303.000000  303.000000  303.000000  303.000000  303.000000   \n",
       "mean     0.528053  149.646865    0.326733    1.039604    1.399340    0.729373   \n",
       "std      0.525860   22.905161    0.469794    1.161075    0.616226    1.022606   \n",
       "min      0.000000   71.000000    0.000000    0.000000    0.000000    0.000000   \n",
       "25%      0.000000  133.500000    0.000000    0.000000    1.000000    0.000000   \n",
       "50%      1.000000  153.000000    0.000000    0.800000    1.000000    0.000000   \n",
       "75%      1.000000  166.000000    1.000000    1.600000    2.000000    1.000000   \n",
       "max      2.000000  202.000000    1.000000    6.200000    2.000000    4.000000   \n",
       "\n",
       "             thal      target  \n",
       "count  303.000000  303.000000  \n",
       "mean     2.313531    0.544554  \n",
       "std      0.612277    0.498835  \n",
       "min      0.000000    0.000000  \n",
       "25%      2.000000    0.000000  \n",
       "50%      2.000000    1.000000  \n",
       "75%      3.000000    1.000000  \n",
       "max      3.000000    1.000000  "
      ]
     },
     "execution_count": 4,
     "metadata": {},
     "output_type": "execute_result"
    }
   ],
   "source": [
    "heart_data.describe()"
   ]
  },
  {
   "cell_type": "code",
   "execution_count": 5,
   "metadata": {},
   "outputs": [
    {
     "data": {
      "text/plain": [
       "array([[<matplotlib.axes._subplots.AxesSubplot object at 0x7f665c38a550>,\n",
       "        <matplotlib.axes._subplots.AxesSubplot object at 0x7f6658feb9e8>,\n",
       "        <matplotlib.axes._subplots.AxesSubplot object at 0x7f665c3ae4a8>,\n",
       "        <matplotlib.axes._subplots.AxesSubplot object at 0x7f6658f86f60>],\n",
       "       [<matplotlib.axes._subplots.AxesSubplot object at 0x7f6658f56128>,\n",
       "        <matplotlib.axes._subplots.AxesSubplot object at 0x7f6658eadda0>,\n",
       "        <matplotlib.axes._subplots.AxesSubplot object at 0x7f6658e7e710>,\n",
       "        <matplotlib.axes._subplots.AxesSubplot object at 0x7f6658e29be0>],\n",
       "       [<matplotlib.axes._subplots.AxesSubplot object at 0x7f6658e1d080>,\n",
       "        <matplotlib.axes._subplots.AxesSubplot object at 0x7f6658da8f28>,\n",
       "        <matplotlib.axes._subplots.AxesSubplot object at 0x7f6658d30da0>,\n",
       "        <matplotlib.axes._subplots.AxesSubplot object at 0x7f6658d7c400>],\n",
       "       [<matplotlib.axes._subplots.AxesSubplot object at 0x7f6658cca5c0>,\n",
       "        <matplotlib.axes._subplots.AxesSubplot object at 0x7f6658c8ed30>,\n",
       "        <matplotlib.axes._subplots.AxesSubplot object at 0x7f6658c672e8>,\n",
       "        <matplotlib.axes._subplots.AxesSubplot object at 0x7f6658bb2748>]], dtype=object)"
      ]
     },
     "execution_count": 5,
     "metadata": {},
     "output_type": "execute_result"
    },
    {
     "data": {
      "image/png": "[encoded data removed]",
      "text/plain": [
       "<matplotlib.figure.Figure at 0x7f665c3e8518>"
      ]
     },
     "metadata": {},
     "output_type": "display_data"
    }
   ],
   "source": [
    "%matplotlib inline\n",
    "heart_data.hist(bins = 50 , figsize = (20 , 15))"
   ]
  },
  {
   "cell_type": "code",
   "execution_count": 6,
   "metadata": {},
   "outputs": [
    {
     "data": {
      "image/png": "[encoded data removed]",
      "text/plain": [
       "<matplotlib.figure.Figure at 0x7f6658b9c1d0>"
      ]
     },
     "metadata": {},
     "output_type": "display_data"
    }
   ],
   "source": [
    "\n",
    "n , bins , patches = plt.hist(heart_data[\"age\"] , bins = 80   )\n",
    "plt.show()"
   ]
  },
  {
   "cell_type": "code",
   "execution_count": 7,
   "metadata": {},
   "outputs": [
    {
     "data": {
      "text/html": [
       "<div>\n",
       "<style>\n",
       "    .dataframe thead tr:only-child th {\n",
       "        text-align: right;\n",
       "    }\n",
       "\n",
       "    .dataframe thead th {\n",
       "        text-align: left;\n",
       "    }\n",
       "\n",
       "    .dataframe tbody tr th {\n",
       "        vertical-align: top;\n",
       "    }\n",
       "</style>\n",
       "<table border=\"1\" class=\"dataframe\">\n",
       "  <thead>\n",
       "    <tr style=\"text-align: right;\">\n",
       "      <th></th>\n",
       "      <th>age</th>\n",
       "      <th>sex</th>\n",
       "      <th>cp</th>\n",
       "      <th>trestbps</th>\n",
       "      <th>chol</th>\n",
       "      <th>fbs</th>\n",
       "      <th>restecg</th>\n",
       "      <th>thalach</th>\n",
       "      <th>exang</th>\n",
       "      <th>oldpeak</th>\n",
       "      <th>slope</th>\n",
       "      <th>ca</th>\n",
       "      <th>thal</th>\n",
       "      <th>target</th>\n",
       "      <th>temp_age</th>\n",
       "    </tr>\n",
       "  </thead>\n",
       "  <tbody>\n",
       "    <tr>\n",
       "      <th>count</th>\n",
       "      <td>303.000000</td>\n",
       "      <td>303.000000</td>\n",
       "      <td>303.000000</td>\n",
       "      <td>303.000000</td>\n",
       "      <td>303.000000</td>\n",
       "      <td>303.000000</td>\n",
       "      <td>303.000000</td>\n",
       "      <td>303.000000</td>\n",
       "      <td>303.000000</td>\n",
       "      <td>303.000000</td>\n",
       "      <td>303.000000</td>\n",
       "      <td>303.000000</td>\n",
       "      <td>303.000000</td>\n",
       "      <td>303.000000</td>\n",
       "      <td>303.000000</td>\n",
       "    </tr>\n",
       "    <tr>\n",
       "      <th>mean</th>\n",
       "      <td>54.366337</td>\n",
       "      <td>0.683168</td>\n",
       "      <td>0.966997</td>\n",
       "      <td>131.623762</td>\n",
       "      <td>246.264026</td>\n",
       "      <td>0.148515</td>\n",
       "      <td>0.528053</td>\n",
       "      <td>149.646865</td>\n",
       "      <td>0.326733</td>\n",
       "      <td>1.039604</td>\n",
       "      <td>1.399340</td>\n",
       "      <td>0.729373</td>\n",
       "      <td>2.313531</td>\n",
       "      <td>0.544554</td>\n",
       "      <td>54.495050</td>\n",
       "    </tr>\n",
       "    <tr>\n",
       "      <th>std</th>\n",
       "      <td>9.082101</td>\n",
       "      <td>0.466011</td>\n",
       "      <td>1.032052</td>\n",
       "      <td>17.538143</td>\n",
       "      <td>51.830751</td>\n",
       "      <td>0.356198</td>\n",
       "      <td>0.525860</td>\n",
       "      <td>22.905161</td>\n",
       "      <td>0.469794</td>\n",
       "      <td>1.161075</td>\n",
       "      <td>0.616226</td>\n",
       "      <td>1.022606</td>\n",
       "      <td>0.612277</td>\n",
       "      <td>0.498835</td>\n",
       "      <td>8.564856</td>\n",
       "    </tr>\n",
       "    <tr>\n",
       "      <th>min</th>\n",
       "      <td>29.000000</td>\n",
       "      <td>0.000000</td>\n",
       "      <td>0.000000</td>\n",
       "      <td>94.000000</td>\n",
       "      <td>126.000000</td>\n",
       "      <td>0.000000</td>\n",
       "      <td>0.000000</td>\n",
       "      <td>71.000000</td>\n",
       "      <td>0.000000</td>\n",
       "      <td>0.000000</td>\n",
       "      <td>0.000000</td>\n",
       "      <td>0.000000</td>\n",
       "      <td>0.000000</td>\n",
       "      <td>0.000000</td>\n",
       "      <td>40.000000</td>\n",
       "    </tr>\n",
       "    <tr>\n",
       "      <th>25%</th>\n",
       "      <td>47.500000</td>\n",
       "      <td>0.000000</td>\n",
       "      <td>0.000000</td>\n",
       "      <td>120.000000</td>\n",
       "      <td>211.000000</td>\n",
       "      <td>0.000000</td>\n",
       "      <td>0.000000</td>\n",
       "      <td>133.500000</td>\n",
       "      <td>0.000000</td>\n",
       "      <td>0.000000</td>\n",
       "      <td>1.000000</td>\n",
       "      <td>0.000000</td>\n",
       "      <td>2.000000</td>\n",
       "      <td>0.000000</td>\n",
       "      <td>47.500000</td>\n",
       "    </tr>\n",
       "    <tr>\n",
       "      <th>50%</th>\n",
       "      <td>55.000000</td>\n",
       "      <td>1.000000</td>\n",
       "      <td>1.000000</td>\n",
       "      <td>130.000000</td>\n",
       "      <td>240.000000</td>\n",
       "      <td>0.000000</td>\n",
       "      <td>1.000000</td>\n",
       "      <td>153.000000</td>\n",
       "      <td>0.000000</td>\n",
       "      <td>0.800000</td>\n",
       "      <td>1.000000</td>\n",
       "      <td>0.000000</td>\n",
       "      <td>2.000000</td>\n",
       "      <td>1.000000</td>\n",
       "      <td>55.000000</td>\n",
       "    </tr>\n",
       "    <tr>\n",
       "      <th>75%</th>\n",
       "      <td>61.000000</td>\n",
       "      <td>1.000000</td>\n",
       "      <td>2.000000</td>\n",
       "      <td>140.000000</td>\n",
       "      <td>274.500000</td>\n",
       "      <td>0.000000</td>\n",
       "      <td>1.000000</td>\n",
       "      <td>166.000000</td>\n",
       "      <td>1.000000</td>\n",
       "      <td>1.600000</td>\n",
       "      <td>2.000000</td>\n",
       "      <td>1.000000</td>\n",
       "      <td>3.000000</td>\n",
       "      <td>1.000000</td>\n",
       "      <td>61.000000</td>\n",
       "    </tr>\n",
       "    <tr>\n",
       "      <th>max</th>\n",
       "      <td>77.000000</td>\n",
       "      <td>1.000000</td>\n",
       "      <td>3.000000</td>\n",
       "      <td>200.000000</td>\n",
       "      <td>564.000000</td>\n",
       "      <td>1.000000</td>\n",
       "      <td>2.000000</td>\n",
       "      <td>202.000000</td>\n",
       "      <td>1.000000</td>\n",
       "      <td>6.200000</td>\n",
       "      <td>2.000000</td>\n",
       "      <td>4.000000</td>\n",
       "      <td>3.000000</td>\n",
       "      <td>1.000000</td>\n",
       "      <td>70.000000</td>\n",
       "    </tr>\n",
       "  </tbody>\n",
       "</table>\n",
       "</div>"
      ],
      "text/plain": [
       "              age         sex          cp    trestbps        chol         fbs  \\\n",
       "count  303.000000  303.000000  303.000000  303.000000  303.000000  303.000000   \n",
       "mean    54.366337    0.683168    0.966997  131.623762  246.264026    0.148515   \n",
       "std      9.082101    0.466011    1.032052   17.538143   51.830751    0.356198   \n",
       "min     29.000000    0.000000    0.000000   94.000000  126.000000    0.000000   \n",
       "25%     47.500000    0.000000    0.000000  120.000000  211.000000    0.000000   \n",
       "50%     55.000000    1.000000    1.000000  130.000000  240.000000    0.000000   \n",
       "75%     61.000000    1.000000    2.000000  140.000000  274.500000    0.000000   \n",
       "max     77.000000    1.000000    3.000000  200.000000  564.000000    1.000000   \n",
       "\n",
       "          restecg     thalach       exang     oldpeak       slope          ca  \\\n",
       "count  303.000000  303.000000  303.000000  303.000000  303.000000  303.000000   \n",
       "mean     0.528053  149.646865    0.326733    1.039604    1.399340    0.729373   \n",
       "std      0.525860   22.905161    0.469794    1.161075    0.616226    1.022606   \n",
       "min      0.000000   71.000000    0.000000    0.000000    0.000000    0.000000   \n",
       "25%      0.000000  133.500000    0.000000    0.000000    1.000000    0.000000   \n",
       "50%      1.000000  153.000000    0.000000    0.800000    1.000000    0.000000   \n",
       "75%      1.000000  166.000000    1.000000    1.600000    2.000000    1.000000   \n",
       "max      2.000000  202.000000    1.000000    6.200000    2.000000    4.000000   \n",
       "\n",
       "             thal      target    temp_age  \n",
       "count  303.000000  303.000000  303.000000  \n",
       "mean     2.313531    0.544554   54.495050  \n",
       "std      0.612277    0.498835    8.564856  \n",
       "min      0.000000    0.000000   40.000000  \n",
       "25%      2.000000    0.000000   47.500000  \n",
       "50%      2.000000    1.000000   55.000000  \n",
       "75%      3.000000    1.000000   61.000000  \n",
       "max      3.000000    1.000000   70.000000  "
      ]
     },
     "execution_count": 7,
     "metadata": {},
     "output_type": "execute_result"
    }
   ],
   "source": [
    "heart_data[\"temp_age\"] = heart_data[\"age\"]\n",
    "heart_data[\"temp_age\"].where(heart_data[\"age\"] < 70.0 , 70.0 , inplace = True)\n",
    "heart_data[\"temp_age\"].where(heart_data[\"age\"] > 40.0 , 40.0 , inplace = True)\n",
    "heart_data.describe()"
   ]
  },
  {
   "cell_type": "code",
   "execution_count": 8,
   "metadata": {
    "collapsed": true
   },
   "outputs": [],
   "source": [
    "from sklearn.model_selection import StratifiedShuffleSplit\n",
    "\n",
    "split = StratifiedShuffleSplit(n_splits = 1 , test_size = 0.1, random_state = 42)\n",
    "\n",
    "for train_index , test_index in split.split(heart_data , heart_data[\"temp_age\"]):\n",
    "    strat_train_set = heart_data.loc[train_index]\n",
    "    strat_test_set = heart_data.loc[test_index]"
   ]
  },
  {
   "cell_type": "code",
   "execution_count": 9,
   "metadata": {},
   "outputs": [
    {
     "name": "stdout",
     "output_type": "stream",
     "text": [
      "training data : 272 , testing data : 31\n"
     ]
    }
   ],
   "source": [
    "print(\"training data : {} , testing data : {}\".format(len(strat_train_set) , len(strat_test_set)))"
   ]
  },
  {
   "cell_type": "code",
   "execution_count": 10,
   "metadata": {
    "collapsed": true
   },
   "outputs": [],
   "source": [
    "for data_set in(strat_train_set , strat_test_set):\n",
    "    data_set.drop([\"temp_age\"] , axis =  1 , inplace = True)"
   ]
  },
  {
   "cell_type": "code",
   "execution_count": 11,
   "metadata": {},
   "outputs": [
    {
     "data": {
      "text/html": [
       "<div>\n",
       "<style>\n",
       "    .dataframe thead tr:only-child th {\n",
       "        text-align: right;\n",
       "    }\n",
       "\n",
       "    .dataframe thead th {\n",
       "        text-align: left;\n",
       "    }\n",
       "\n",
       "    .dataframe tbody tr th {\n",
       "        vertical-align: top;\n",
       "    }\n",
       "</style>\n",
       "<table border=\"1\" class=\"dataframe\">\n",
       "  <thead>\n",
       "    <tr style=\"text-align: right;\">\n",
       "      <th></th>\n",
       "      <th>age</th>\n",
       "      <th>sex</th>\n",
       "      <th>cp</th>\n",
       "      <th>trestbps</th>\n",
       "      <th>chol</th>\n",
       "      <th>fbs</th>\n",
       "      <th>restecg</th>\n",
       "      <th>thalach</th>\n",
       "      <th>exang</th>\n",
       "      <th>oldpeak</th>\n",
       "      <th>slope</th>\n",
       "      <th>ca</th>\n",
       "      <th>thal</th>\n",
       "      <th>target</th>\n",
       "    </tr>\n",
       "  </thead>\n",
       "  <tbody>\n",
       "    <tr>\n",
       "      <th>51</th>\n",
       "      <td>66</td>\n",
       "      <td>1</td>\n",
       "      <td>0</td>\n",
       "      <td>120</td>\n",
       "      <td>302</td>\n",
       "      <td>0</td>\n",
       "      <td>0</td>\n",
       "      <td>151</td>\n",
       "      <td>0</td>\n",
       "      <td>0.4</td>\n",
       "      <td>1</td>\n",
       "      <td>0</td>\n",
       "      <td>2</td>\n",
       "      <td>1</td>\n",
       "    </tr>\n",
       "    <tr>\n",
       "      <th>41</th>\n",
       "      <td>48</td>\n",
       "      <td>1</td>\n",
       "      <td>1</td>\n",
       "      <td>130</td>\n",
       "      <td>245</td>\n",
       "      <td>0</td>\n",
       "      <td>0</td>\n",
       "      <td>180</td>\n",
       "      <td>0</td>\n",
       "      <td>0.2</td>\n",
       "      <td>1</td>\n",
       "      <td>0</td>\n",
       "      <td>2</td>\n",
       "      <td>1</td>\n",
       "    </tr>\n",
       "    <tr>\n",
       "      <th>53</th>\n",
       "      <td>44</td>\n",
       "      <td>0</td>\n",
       "      <td>2</td>\n",
       "      <td>108</td>\n",
       "      <td>141</td>\n",
       "      <td>0</td>\n",
       "      <td>1</td>\n",
       "      <td>175</td>\n",
       "      <td>0</td>\n",
       "      <td>0.6</td>\n",
       "      <td>1</td>\n",
       "      <td>0</td>\n",
       "      <td>2</td>\n",
       "      <td>1</td>\n",
       "    </tr>\n",
       "    <tr>\n",
       "      <th>40</th>\n",
       "      <td>51</td>\n",
       "      <td>0</td>\n",
       "      <td>2</td>\n",
       "      <td>140</td>\n",
       "      <td>308</td>\n",
       "      <td>0</td>\n",
       "      <td>0</td>\n",
       "      <td>142</td>\n",
       "      <td>0</td>\n",
       "      <td>1.5</td>\n",
       "      <td>2</td>\n",
       "      <td>1</td>\n",
       "      <td>2</td>\n",
       "      <td>1</td>\n",
       "    </tr>\n",
       "    <tr>\n",
       "      <th>92</th>\n",
       "      <td>52</td>\n",
       "      <td>1</td>\n",
       "      <td>2</td>\n",
       "      <td>138</td>\n",
       "      <td>223</td>\n",
       "      <td>0</td>\n",
       "      <td>1</td>\n",
       "      <td>169</td>\n",
       "      <td>0</td>\n",
       "      <td>0.0</td>\n",
       "      <td>2</td>\n",
       "      <td>4</td>\n",
       "      <td>2</td>\n",
       "      <td>1</td>\n",
       "    </tr>\n",
       "  </tbody>\n",
       "</table>\n",
       "</div>"
      ],
      "text/plain": [
       "    age  sex  cp  trestbps  chol  fbs  restecg  thalach  exang  oldpeak  \\\n",
       "51   66    1   0       120   302    0        0      151      0      0.4   \n",
       "41   48    1   1       130   245    0        0      180      0      0.2   \n",
       "53   44    0   2       108   141    0        1      175      0      0.6   \n",
       "40   51    0   2       140   308    0        0      142      0      1.5   \n",
       "92   52    1   2       138   223    0        1      169      0      0.0   \n",
       "\n",
       "    slope  ca  thal  target  \n",
       "51      1   0     2       1  \n",
       "41      1   0     2       1  \n",
       "53      1   0     2       1  \n",
       "40      2   1     2       1  \n",
       "92      2   4     2       1  "
      ]
     },
     "execution_count": 11,
     "metadata": {},
     "output_type": "execute_result"
    }
   ],
   "source": [
    "strat_train_set.head()"
   ]
  },
  {
   "cell_type": "code",
   "execution_count": 12,
   "metadata": {},
   "outputs": [
    {
     "name": "stdout",
     "output_type": "stream",
     "text": [
      "******************************\n",
      "Showing data correlation for age\n",
      "age         1.000000\n",
      "trestbps    0.279708\n",
      "ca          0.277069\n",
      "chol        0.205003\n",
      "oldpeak     0.197950\n",
      "fbs         0.148135\n",
      "exang       0.104776\n",
      "thal        0.088109\n",
      "cp         -0.080363\n",
      "sex        -0.114474\n",
      "restecg    -0.117645\n",
      "slope      -0.166625\n",
      "target     -0.243614\n",
      "thalach    -0.409504\n",
      "Name: age, dtype: float64\n",
      "******************************\n",
      "******************************\n",
      "Showing data correlation for sex\n",
      "sex         1.000000\n",
      "thal        0.200207\n",
      "exang       0.118094\n",
      "ca          0.078762\n",
      "oldpeak     0.060713\n",
      "slope       0.014248\n",
      "fbs         0.011198\n",
      "thalach    -0.023272\n",
      "cp         -0.033823\n",
      "restecg    -0.060115\n",
      "trestbps   -0.092377\n",
      "age        -0.114474\n",
      "chol       -0.196914\n",
      "target     -0.246020\n",
      "Name: sex, dtype: float64\n",
      "******************************\n",
      "******************************\n",
      "Showing data correlation for cp\n",
      "cp          1.000000\n",
      "target      0.426082\n",
      "thalach     0.292197\n",
      "fbs         0.155791\n",
      "slope       0.125719\n",
      "trestbps    0.058381\n",
      "restecg     0.018901\n",
      "sex        -0.033823\n",
      "chol       -0.066125\n",
      "age        -0.080363\n",
      "ca         -0.160337\n",
      "thal       -0.170970\n",
      "oldpeak    -0.172551\n",
      "exang      -0.426309\n",
      "Name: cp, dtype: float64\n",
      "******************************\n",
      "******************************\n",
      "Showing data correlation for trestbps\n",
      "trestbps    1.000000\n",
      "age         0.279708\n",
      "oldpeak     0.185895\n",
      "fbs         0.153951\n",
      "chol        0.133763\n",
      "thal        0.074731\n",
      "exang       0.072561\n",
      "ca          0.064103\n",
      "cp          0.058381\n",
      "thalach    -0.024269\n",
      "sex        -0.092377\n",
      "slope      -0.106842\n",
      "target     -0.110652\n",
      "restecg    -0.125082\n",
      "Name: trestbps, dtype: float64\n",
      "******************************\n",
      "******************************\n",
      "Showing data correlation for chol\n",
      "chol        1.000000\n",
      "age         0.205003\n",
      "trestbps    0.133763\n",
      "thal        0.088640\n",
      "exang       0.079390\n",
      "ca          0.071790\n",
      "oldpeak     0.057294\n",
      "fbs         0.022286\n",
      "slope      -0.021875\n",
      "thalach    -0.022341\n",
      "cp         -0.066125\n",
      "target     -0.084586\n",
      "restecg    -0.151683\n",
      "sex        -0.196914\n",
      "Name: chol, dtype: float64\n",
      "******************************\n",
      "******************************\n",
      "Showing data correlation for fbs\n",
      "fbs         1.000000\n",
      "cp          0.155791\n",
      "trestbps    0.153951\n",
      "age         0.148135\n",
      "ca          0.094826\n",
      "thalach     0.023711\n",
      "target      0.022697\n",
      "chol        0.022286\n",
      "oldpeak     0.014097\n",
      "sex         0.011198\n",
      "exang      -0.014804\n",
      "thal       -0.027169\n",
      "slope      -0.042899\n",
      "restecg    -0.062477\n",
      "Name: fbs, dtype: float64\n",
      "******************************\n",
      "******************************\n",
      "Showing data correlation for restecg\n",
      "restecg     1.000000\n",
      "target      0.113615\n",
      "slope       0.098794\n",
      "cp          0.018901\n",
      "thalach     0.015272\n",
      "thal       -0.008415\n",
      "oldpeak    -0.058332\n",
      "sex        -0.060115\n",
      "fbs        -0.062477\n",
      "ca         -0.072243\n",
      "exang      -0.076882\n",
      "age        -0.117645\n",
      "trestbps   -0.125082\n",
      "chol       -0.151683\n",
      "Name: restecg, dtype: float64\n",
      "******************************\n",
      "******************************\n",
      "Showing data correlation for thalach\n",
      "thalach     1.000000\n",
      "target      0.432935\n",
      "slope       0.375160\n",
      "cp          0.292197\n",
      "fbs         0.023711\n",
      "restecg     0.015272\n",
      "chol       -0.022341\n",
      "sex        -0.023272\n",
      "trestbps   -0.024269\n",
      "thal       -0.144647\n",
      "ca         -0.177950\n",
      "oldpeak    -0.356093\n",
      "exang      -0.408854\n",
      "age        -0.409504\n",
      "Name: thalach, dtype: float64\n",
      "******************************\n",
      "******************************\n",
      "Showing data correlation for exang\n",
      "exang       1.000000\n",
      "oldpeak     0.309368\n",
      "thal        0.245955\n",
      "sex         0.118094\n",
      "ca          0.116744\n",
      "age         0.104776\n",
      "chol        0.079390\n",
      "trestbps    0.072561\n",
      "fbs        -0.014804\n",
      "restecg    -0.076882\n",
      "slope      -0.250507\n",
      "thalach    -0.408854\n",
      "cp         -0.426309\n",
      "target     -0.466313\n",
      "Name: exang, dtype: float64\n",
      "******************************\n",
      "******************************\n",
      "Showing data correlation for oldpeak\n",
      "oldpeak     1.000000\n",
      "exang       0.309368\n",
      "ca          0.262406\n",
      "thal        0.222508\n",
      "age         0.197950\n",
      "trestbps    0.185895\n",
      "sex         0.060713\n",
      "chol        0.057294\n",
      "fbs         0.014097\n",
      "restecg    -0.058332\n",
      "cp         -0.172551\n",
      "thalach    -0.356093\n",
      "target     -0.449891\n",
      "slope      -0.576360\n",
      "Name: oldpeak, dtype: float64\n",
      "******************************\n",
      "******************************\n",
      "Showing data correlation for slope\n",
      "slope       1.000000\n",
      "thalach     0.375160\n",
      "target      0.353050\n",
      "cp          0.125719\n",
      "restecg     0.098794\n",
      "sex         0.014248\n",
      "chol       -0.021875\n",
      "fbs        -0.042899\n",
      "ca         -0.044730\n",
      "trestbps   -0.106842\n",
      "thal       -0.109023\n",
      "age        -0.166625\n",
      "exang      -0.250507\n",
      "oldpeak    -0.576360\n",
      "Name: slope, dtype: float64\n",
      "******************************\n",
      "******************************\n",
      "Showing data correlation for ca\n",
      "ca          1.000000\n",
      "age         0.277069\n",
      "oldpeak     0.262406\n",
      "thal        0.131538\n",
      "exang       0.116744\n",
      "fbs         0.094826\n",
      "sex         0.078762\n",
      "chol        0.071790\n",
      "trestbps    0.064103\n",
      "slope      -0.044730\n",
      "restecg    -0.072243\n",
      "cp         -0.160337\n",
      "thalach    -0.177950\n",
      "target     -0.413629\n",
      "Name: ca, dtype: float64\n",
      "******************************\n",
      "******************************\n",
      "Showing data correlation for thal\n",
      "thal        1.000000\n",
      "exang       0.245955\n",
      "oldpeak     0.222508\n",
      "sex         0.200207\n",
      "ca          0.131538\n",
      "chol        0.088640\n",
      "age         0.088109\n",
      "trestbps    0.074731\n",
      "restecg    -0.008415\n",
      "fbs        -0.027169\n",
      "slope      -0.109023\n",
      "thalach    -0.144647\n",
      "cp         -0.170970\n",
      "target     -0.384241\n",
      "Name: thal, dtype: float64\n",
      "******************************\n",
      "******************************\n",
      "Showing data correlation for target\n",
      "target      1.000000\n",
      "thalach     0.432935\n",
      "cp          0.426082\n",
      "slope       0.353050\n",
      "restecg     0.113615\n",
      "fbs         0.022697\n",
      "chol       -0.084586\n",
      "trestbps   -0.110652\n",
      "age        -0.243614\n",
      "sex        -0.246020\n",
      "thal       -0.384241\n",
      "ca         -0.413629\n",
      "oldpeak    -0.449891\n",
      "exang      -0.466313\n",
      "Name: target, dtype: float64\n",
      "******************************\n"
     ]
    }
   ],
   "source": [
    "data = strat_train_set.copy()\n",
    "corr_matrix = data.corr()\n",
    "\n",
    "for column in corr_matrix.keys():\n",
    "    \n",
    "    print(\"*\" * 30)\n",
    "    print(\"Showing data correlation for {}\".format(column))\n",
    "    print(corr_matrix[column].sort_values(ascending = False))\n",
    "    print(\"*\" * 30)\n",
    "        "
   ]
  },
  {
   "cell_type": "code",
   "execution_count": 13,
   "metadata": {},
   "outputs": [
    {
     "name": "stderr",
     "output_type": "stream",
     "text": [
      "/home/musa/miniconda3/envs/machine_learning_env/lib/python3.5/site-packages/ipykernel_launcher.py:4: FutureWarning: 'pandas.tools.plotting.scatter_matrix' is deprecated, import 'pandas.plotting.scatter_matrix' instead.\n",
      "  after removing the cwd from sys.path.\n"
     ]
    },
    {
     "data": {
      "text/plain": [
       "array([[<matplotlib.axes._subplots.AxesSubplot object at 0x7f664e670860>,\n",
       "        <matplotlib.axes._subplots.AxesSubplot object at 0x7f664e6564a8>,\n",
       "        <matplotlib.axes._subplots.AxesSubplot object at 0x7f664e61c518>,\n",
       "        <matplotlib.axes._subplots.AxesSubplot object at 0x7f664e5c95f8>],\n",
       "       [<matplotlib.axes._subplots.AxesSubplot object at 0x7f664e53c710>,\n",
       "        <matplotlib.axes._subplots.AxesSubplot object at 0x7f664e548978>,\n",
       "        <matplotlib.axes._subplots.AxesSubplot object at 0x7f664e4d6748>,\n",
       "        <matplotlib.axes._subplots.AxesSubplot object at 0x7f664e494ef0>],\n",
       "       [<matplotlib.axes._subplots.AxesSubplot object at 0x7f664e3f4588>,\n",
       "        <matplotlib.axes._subplots.AxesSubplot object at 0x7f664e3b1e10>,\n",
       "        <matplotlib.axes._subplots.AxesSubplot object at 0x7f664e391710>,\n",
       "        <matplotlib.axes._subplots.AxesSubplot object at 0x7f664e356b00>],\n",
       "       [<matplotlib.axes._subplots.AxesSubplot object at 0x7f664e2b0668>,\n",
       "        <matplotlib.axes._subplots.AxesSubplot object at 0x7f664e283240>,\n",
       "        <matplotlib.axes._subplots.AxesSubplot object at 0x7f664e22f5f8>,\n",
       "        <matplotlib.axes._subplots.AxesSubplot object at 0x7f664e21cb70>]], dtype=object)"
      ]
     },
     "execution_count": 13,
     "metadata": {},
     "output_type": "execute_result"
    },
    {
     "data": {
      "image/png": "[encoded data removed]",
      "text/plain": [
       "<matplotlib.figure.Figure at 0x7f665c38a3c8>"
      ]
     },
     "metadata": {},
     "output_type": "display_data"
    }
   ],
   "source": [
    "from pandas.tools.plotting import scatter_matrix\n",
    "\n",
    "attributes = [ \"age\"  , \"chol\", \"slope\" , \"thalach\"]\n",
    "scatter_matrix(data[attributes] , figsize = (15 , 15))"
   ]
  },
  {
   "cell_type": "code",
   "execution_count": 14,
   "metadata": {},
   "outputs": [
    {
     "data": {
      "text/html": [
       "<div>\n",
       "<style>\n",
       "    .dataframe thead tr:only-child th {\n",
       "        text-align: right;\n",
       "    }\n",
       "\n",
       "    .dataframe thead th {\n",
       "        text-align: left;\n",
       "    }\n",
       "\n",
       "    .dataframe tbody tr th {\n",
       "        vertical-align: top;\n",
       "    }\n",
       "</style>\n",
       "<table border=\"1\" class=\"dataframe\">\n",
       "  <thead>\n",
       "    <tr style=\"text-align: right;\">\n",
       "      <th></th>\n",
       "      <th>age</th>\n",
       "      <th>sex</th>\n",
       "      <th>cp</th>\n",
       "      <th>trestbps</th>\n",
       "      <th>chol</th>\n",
       "      <th>fbs</th>\n",
       "      <th>restecg</th>\n",
       "      <th>thalach</th>\n",
       "      <th>exang</th>\n",
       "      <th>oldpeak</th>\n",
       "      <th>slope</th>\n",
       "      <th>ca</th>\n",
       "      <th>thal</th>\n",
       "      <th>target</th>\n",
       "    </tr>\n",
       "  </thead>\n",
       "  <tbody>\n",
       "    <tr>\n",
       "      <th>0</th>\n",
       "      <td>57</td>\n",
       "      <td>0</td>\n",
       "      <td>0</td>\n",
       "      <td>120</td>\n",
       "      <td>354</td>\n",
       "      <td>0</td>\n",
       "      <td>1</td>\n",
       "      <td>163</td>\n",
       "      <td>1</td>\n",
       "      <td>0.6</td>\n",
       "      <td>2</td>\n",
       "      <td>0</td>\n",
       "      <td>2</td>\n",
       "      <td>1</td>\n",
       "    </tr>\n",
       "    <tr>\n",
       "      <th>1</th>\n",
       "      <td>58</td>\n",
       "      <td>0</td>\n",
       "      <td>0</td>\n",
       "      <td>100</td>\n",
       "      <td>248</td>\n",
       "      <td>0</td>\n",
       "      <td>0</td>\n",
       "      <td>122</td>\n",
       "      <td>0</td>\n",
       "      <td>1.0</td>\n",
       "      <td>1</td>\n",
       "      <td>0</td>\n",
       "      <td>2</td>\n",
       "      <td>1</td>\n",
       "    </tr>\n",
       "    <tr>\n",
       "      <th>2</th>\n",
       "      <td>57</td>\n",
       "      <td>1</td>\n",
       "      <td>0</td>\n",
       "      <td>110</td>\n",
       "      <td>201</td>\n",
       "      <td>0</td>\n",
       "      <td>1</td>\n",
       "      <td>126</td>\n",
       "      <td>1</td>\n",
       "      <td>1.5</td>\n",
       "      <td>1</td>\n",
       "      <td>0</td>\n",
       "      <td>1</td>\n",
       "      <td>1</td>\n",
       "    </tr>\n",
       "    <tr>\n",
       "      <th>3</th>\n",
       "      <td>52</td>\n",
       "      <td>1</td>\n",
       "      <td>1</td>\n",
       "      <td>120</td>\n",
       "      <td>325</td>\n",
       "      <td>0</td>\n",
       "      <td>1</td>\n",
       "      <td>172</td>\n",
       "      <td>0</td>\n",
       "      <td>0.2</td>\n",
       "      <td>2</td>\n",
       "      <td>0</td>\n",
       "      <td>2</td>\n",
       "      <td>1</td>\n",
       "    </tr>\n",
       "    <tr>\n",
       "      <th>4</th>\n",
       "      <td>58</td>\n",
       "      <td>1</td>\n",
       "      <td>0</td>\n",
       "      <td>125</td>\n",
       "      <td>300</td>\n",
       "      <td>0</td>\n",
       "      <td>0</td>\n",
       "      <td>171</td>\n",
       "      <td>0</td>\n",
       "      <td>0.0</td>\n",
       "      <td>2</td>\n",
       "      <td>2</td>\n",
       "      <td>3</td>\n",
       "      <td>0</td>\n",
       "    </tr>\n",
       "  </tbody>\n",
       "</table>\n",
       "</div>"
      ],
      "text/plain": [
       "   age  sex  cp  trestbps  chol  fbs  restecg  thalach  exang  oldpeak  slope  \\\n",
       "0   57    0   0       120   354    0        1      163      1      0.6      2   \n",
       "1   58    0   0       100   248    0        0      122      0      1.0      1   \n",
       "2   57    1   0       110   201    0        1      126      1      1.5      1   \n",
       "3   52    1   1       120   325    0        1      172      0      0.2      2   \n",
       "4   58    1   0       125   300    0        0      171      0      0.0      2   \n",
       "\n",
       "   ca  thal  target  \n",
       "0   0     2       1  \n",
       "1   0     2       1  \n",
       "2   0     1       1  \n",
       "3   0     2       1  \n",
       "4   2     3       0  "
      ]
     },
     "execution_count": 14,
     "metadata": {},
     "output_type": "execute_result"
    }
   ],
   "source": [
    "def shuffle(df , axis = 1):\n",
    "    \n",
    "    new_df = df.copy()\n",
    "    new_df = new_df.sample(frac = 1).reset_index(drop = True)\n",
    "    return new_df\n",
    "\n",
    "shuffled_data = shuffle(data)\n",
    "shuffled_data.head()"
   ]
  },
  {
   "cell_type": "code",
   "execution_count": 15,
   "metadata": {},
   "outputs": [
    {
     "data": {
      "text/html": [
       "<div>\n",
       "<style>\n",
       "    .dataframe thead tr:only-child th {\n",
       "        text-align: right;\n",
       "    }\n",
       "\n",
       "    .dataframe thead th {\n",
       "        text-align: left;\n",
       "    }\n",
       "\n",
       "    .dataframe tbody tr th {\n",
       "        vertical-align: top;\n",
       "    }\n",
       "</style>\n",
       "<table border=\"1\" class=\"dataframe\">\n",
       "  <thead>\n",
       "    <tr style=\"text-align: right;\">\n",
       "      <th></th>\n",
       "      <th>age</th>\n",
       "      <th>sex</th>\n",
       "      <th>cp</th>\n",
       "      <th>trestbps</th>\n",
       "      <th>chol</th>\n",
       "      <th>fbs</th>\n",
       "      <th>restecg</th>\n",
       "      <th>thalach</th>\n",
       "      <th>exang</th>\n",
       "      <th>oldpeak</th>\n",
       "      <th>slope</th>\n",
       "      <th>ca</th>\n",
       "      <th>thal</th>\n",
       "    </tr>\n",
       "  </thead>\n",
       "  <tbody>\n",
       "    <tr>\n",
       "      <th>0</th>\n",
       "      <td>57</td>\n",
       "      <td>0</td>\n",
       "      <td>0</td>\n",
       "      <td>120</td>\n",
       "      <td>354</td>\n",
       "      <td>0</td>\n",
       "      <td>1</td>\n",
       "      <td>163</td>\n",
       "      <td>1</td>\n",
       "      <td>0.6</td>\n",
       "      <td>2</td>\n",
       "      <td>0</td>\n",
       "      <td>2</td>\n",
       "    </tr>\n",
       "    <tr>\n",
       "      <th>1</th>\n",
       "      <td>58</td>\n",
       "      <td>0</td>\n",
       "      <td>0</td>\n",
       "      <td>100</td>\n",
       "      <td>248</td>\n",
       "      <td>0</td>\n",
       "      <td>0</td>\n",
       "      <td>122</td>\n",
       "      <td>0</td>\n",
       "      <td>1.0</td>\n",
       "      <td>1</td>\n",
       "      <td>0</td>\n",
       "      <td>2</td>\n",
       "    </tr>\n",
       "    <tr>\n",
       "      <th>2</th>\n",
       "      <td>57</td>\n",
       "      <td>1</td>\n",
       "      <td>0</td>\n",
       "      <td>110</td>\n",
       "      <td>201</td>\n",
       "      <td>0</td>\n",
       "      <td>1</td>\n",
       "      <td>126</td>\n",
       "      <td>1</td>\n",
       "      <td>1.5</td>\n",
       "      <td>1</td>\n",
       "      <td>0</td>\n",
       "      <td>1</td>\n",
       "    </tr>\n",
       "    <tr>\n",
       "      <th>3</th>\n",
       "      <td>52</td>\n",
       "      <td>1</td>\n",
       "      <td>1</td>\n",
       "      <td>120</td>\n",
       "      <td>325</td>\n",
       "      <td>0</td>\n",
       "      <td>1</td>\n",
       "      <td>172</td>\n",
       "      <td>0</td>\n",
       "      <td>0.2</td>\n",
       "      <td>2</td>\n",
       "      <td>0</td>\n",
       "      <td>2</td>\n",
       "    </tr>\n",
       "    <tr>\n",
       "      <th>4</th>\n",
       "      <td>58</td>\n",
       "      <td>1</td>\n",
       "      <td>0</td>\n",
       "      <td>125</td>\n",
       "      <td>300</td>\n",
       "      <td>0</td>\n",
       "      <td>0</td>\n",
       "      <td>171</td>\n",
       "      <td>0</td>\n",
       "      <td>0.0</td>\n",
       "      <td>2</td>\n",
       "      <td>2</td>\n",
       "      <td>3</td>\n",
       "    </tr>\n",
       "  </tbody>\n",
       "</table>\n",
       "</div>"
      ],
      "text/plain": [
       "   age  sex  cp  trestbps  chol  fbs  restecg  thalach  exang  oldpeak  slope  \\\n",
       "0   57    0   0       120   354    0        1      163      1      0.6      2   \n",
       "1   58    0   0       100   248    0        0      122      0      1.0      1   \n",
       "2   57    1   0       110   201    0        1      126      1      1.5      1   \n",
       "3   52    1   1       120   325    0        1      172      0      0.2      2   \n",
       "4   58    1   0       125   300    0        0      171      0      0.0      2   \n",
       "\n",
       "   ca  thal  \n",
       "0   0     2  \n",
       "1   0     2  \n",
       "2   0     1  \n",
       "3   0     2  \n",
       "4   2     3  "
      ]
     },
     "execution_count": 15,
     "metadata": {},
     "output_type": "execute_result"
    }
   ],
   "source": [
    "data  = shuffled_data.drop(\"target\" , axis = 1)\n",
    "labels = shuffled_data[\"target\"]\n",
    "data.head()"
   ]
  },
  {
   "cell_type": "code",
   "execution_count": 16,
   "metadata": {},
   "outputs": [
    {
     "data": {
      "text/plain": [
       "age          57.0\n",
       "sex           0.0\n",
       "cp            0.0\n",
       "trestbps    120.0\n",
       "chol        354.0\n",
       "fbs           0.0\n",
       "restecg       1.0\n",
       "thalach     163.0\n",
       "exang         1.0\n",
       "oldpeak       0.6\n",
       "slope         2.0\n",
       "ca            0.0\n",
       "thal          2.0\n",
       "Name: 0, dtype: float64"
      ]
     },
     "execution_count": 16,
     "metadata": {},
     "output_type": "execute_result"
    }
   ],
   "source": [
    "data.loc[0]"
   ]
  },
  {
   "cell_type": "code",
   "execution_count": 17,
   "metadata": {
    "collapsed": true
   },
   "outputs": [],
   "source": [
    "from sklearn.preprocessing import StandardScaler\n",
    "std_scaler = StandardScaler()\n",
    "data_std = std_scaler.fit_transform(data)\n"
   ]
  },
  {
   "cell_type": "code",
   "execution_count": 18,
   "metadata": {},
   "outputs": [
    {
     "data": {
      "text/plain": [
       "array([ 0.28514675, -1.4832397 , -0.9220888 , -0.68592852,  2.05325081,\n",
       "       -0.4152274 ,  0.89164514,  0.56690051,  1.38734681, -0.40131205,\n",
       "        0.97444961, -0.71978166, -0.57881099])"
      ]
     },
     "execution_count": 18,
     "metadata": {},
     "output_type": "execute_result"
    }
   ],
   "source": [
    "data_std[0]"
   ]
  },
  {
   "cell_type": "code",
   "execution_count": 19,
   "metadata": {},
   "outputs": [
    {
     "data": {
      "text/plain": [
       "array([[ 0.28514675, -1.4832397 , -0.9220888 , ...,  0.97444961,\n",
       "        -0.71978166, -0.57881099],\n",
       "       [ 0.39531708, -1.4832397 , -0.9220888 , ..., -0.6222389 ,\n",
       "        -0.71978166, -0.57881099],\n",
       "       [ 0.28514675,  0.67419986, -0.9220888 , ..., -0.6222389 ,\n",
       "        -0.71978166, -2.29007828],\n",
       "       ..., \n",
       "       [ 0.17497641,  0.67419986,  0.03886198, ..., -2.21892741,\n",
       "        -0.71978166, -0.57881099],\n",
       "       [ 1.38685008,  0.67419986, -0.9220888 , ..., -0.6222389 ,\n",
       "         2.35530647, -0.57881099],\n",
       "       [-1.25723792,  0.67419986, -0.9220888 , ..., -0.6222389 ,\n",
       "        -0.71978166,  1.13245629]])"
      ]
     },
     "execution_count": 19,
     "metadata": {},
     "output_type": "execute_result"
    }
   ],
   "source": [
    "data_std"
   ]
  },
  {
   "cell_type": "code",
   "execution_count": 20,
   "metadata": {},
   "outputs": [
    {
     "name": "stdout",
     "output_type": "stream",
     "text": [
      "X_train =>217 , X_test =>  55\n",
      "y_train => 217 , y_test =>  55\n"
     ]
    }
   ],
   "source": [
    "from sklearn.model_selection import train_test_split\n",
    "\n",
    "X_train , X_test , y_train , y_test = train_test_split(data_std , labels , test_size = 0.2 , random_state = 42)\n",
    "print(\"X_train =>{} , X_test =>  {}\\ny_train => {} , y_test =>  {}\".format(len(X_train) , len(X_test) , len(y_train) , len(y_test)))"
   ]
  },
  {
   "cell_type": "code",
   "execution_count": 21,
   "metadata": {},
   "outputs": [
    {
     "data": {
      "text/plain": [
       "DecisionTreeClassifier(class_weight=None, criterion='gini', max_depth=None,\n",
       "            max_features=None, max_leaf_nodes=None,\n",
       "            min_impurity_decrease=0.0, min_impurity_split=None,\n",
       "            min_samples_leaf=1, min_samples_split=2,\n",
       "            min_weight_fraction_leaf=0.0, presort=False, random_state=42,\n",
       "            splitter='best')"
      ]
     },
     "execution_count": 21,
     "metadata": {},
     "output_type": "execute_result"
    }
   ],
   "source": [
    "from sklearn.tree import DecisionTreeClassifier\n",
    "\n",
    "des_classifier = DecisionTreeClassifier(random_state = 42)\n",
    "des_classifier.fit(X_train , y_train)\n",
    "\n"
   ]
  },
  {
   "cell_type": "code",
   "execution_count": 22,
   "metadata": {},
   "outputs": [
    {
     "data": {
      "text/plain": [
       "0.76363636363636367"
      ]
     },
     "execution_count": 22,
     "metadata": {},
     "output_type": "execute_result"
    }
   ],
   "source": [
    "from sklearn.metrics import accuracy_score\n",
    "\n",
    "predictions = des_classifier.predict(X_test)\n",
    "accuracy_score(predictions , y_test)\n"
   ]
  },
  {
   "cell_type": "code",
   "execution_count": 23,
   "metadata": {
    "collapsed": true
   },
   "outputs": [],
   "source": [
    "from sklearn.metrics import confusion_matrix\n",
    "\n",
    "def draw_confusion_matrix(y_test , predictions):\n",
    "    confmat = confusion_matrix(y_true = y_test , y_pred = predictions)\n",
    "    \n",
    "    fig , ax = plt.subplots(figsize = (12 , 10))\n",
    "    ax.matshow(confmat , cmap = plt.cm.Blues)\n",
    "    \n",
    "    for i in range(confmat.shape[0]):\n",
    "        for j in range(confmat.shape[1]):\n",
    "            ax.text( x = j , y = i , s  = confmat[i , j] , va = \"center\" , ha = \"center\")\n",
    "            \n",
    "    plt.xlabel(\"Prediction Label\")\n",
    "    plt.ylabel(\"true label\")\n",
    "    plt.show()\n",
    "\n"
   ]
  },
  {
   "cell_type": "code",
   "execution_count": 24,
   "metadata": {
    "collapsed": true
   },
   "outputs": [],
   "source": [
    "\n",
    "\n",
    "def show_classifier_result(cls , X_test = X_test):\n",
    "    \n",
    "    predictions = cls.predict(X_test)\n",
    "    score = accuracy_score(predictions , y_test)\n",
    "    \n",
    "    print(\"Accuracy Score : {}\".format(score))\n",
    "    draw_confusion_matrix(y_test , predictions)\n",
    "    \n",
    "    \n"
   ]
  },
  {
   "cell_type": "code",
   "execution_count": 25,
   "metadata": {},
   "outputs": [
    {
     "name": "stdout",
     "output_type": "stream",
     "text": [
      "Accuracy Score : 0.8181818181818182\n"
     ]
    },
    {
     "data": {
      "image/png": "[encoded data removed]",
      "text/plain": [
       "<matplotlib.figure.Figure at 0x7f664c750630>"
      ]
     },
     "metadata": {},
     "output_type": "display_data"
    }
   ],
   "source": [
    "from sklearn.naive_bayes import GaussianNB\n",
    "\n",
    "naive_cls = GaussianNB()\n",
    "naive_cls.fit(X_train , y_train)\n",
    "\n",
    "show_classifier_result(naive_cls)"
   ]
  },
  {
   "cell_type": "code",
   "execution_count": 26,
   "metadata": {},
   "outputs": [
    {
     "name": "stdout",
     "output_type": "stream",
     "text": [
      "Accuracy Score : 0.8181818181818182\n"
     ]
    },
    {
     "data": {
      "image/png": "[encoded data removed]",
      "text/plain": [
       "<matplotlib.figure.Figure at 0x7f664c760550>"
      ]
     },
     "metadata": {},
     "output_type": "display_data"
    }
   ],
   "source": [
    "from sklearn.svm import SVC\n",
    "\n",
    "sv_cls = SVC()\n",
    "sv_cls.fit(X_train , y_train)\n",
    "show_classifier_result(sv_cls)"
   ]
  },
  {
   "cell_type": "code",
   "execution_count": 27,
   "metadata": {},
   "outputs": [
    {
     "name": "stdout",
     "output_type": "stream",
     "text": [
      "Accuracy Score : 0.7272727272727273\n"
     ]
    },
    {
     "data": {
      "image/png": "[encoded data removed]",
      "text/plain": [
       "<matplotlib.figure.Figure at 0x7f664c7502e8>"
      ]
     },
     "metadata": {},
     "output_type": "display_data"
    }
   ],
   "source": [
    "from sklearn.linear_model import SGDClassifier\n",
    "sgd_clf = SGDClassifier(loss=\"hinge\", penalty=\"l2\", max_iter=5)\n",
    "sgd_clf.fit(X_train , y_train)\n",
    "show_classifier_result(sgd_clf)"
   ]
  },
  {
   "cell_type": "code",
   "execution_count": 28,
   "metadata": {
    "collapsed": true
   },
   "outputs": [],
   "source": [
    "from sklearn.ensemble import RandomForestClassifier\n",
    "\n",
    "data_labels = data.columns\n",
    "\n",
    "forest = RandomForestClassifier(n_estimators = 500 , random_state= 1)\n",
    "forest.fit(X_train , y_train)\n",
    "imporatance = forest.feature_importances_\n",
    "\n",
    "indices = np.argsort(imporatance)[::-1]\n"
   ]
  },
  {
   "cell_type": "code",
   "execution_count": 29,
   "metadata": {},
   "outputs": [
    {
     "data": {
      "text/plain": [
       "array([[ 1.16650941, -1.4832397 , -0.9220888 , ..., -0.6222389 ,\n",
       "         2.35530647,  1.13245629],\n",
       "       [-1.36740826,  0.67419986,  1.96076354, ...,  0.97444961,\n",
       "         1.3302771 , -0.57881099],\n",
       "       [-0.70638626, -1.4832397 ,  0.99981276, ...,  0.97444961,\n",
       "        -0.71978166, -0.57881099],\n",
       "       ..., \n",
       "       [ 1.60719075,  0.67419986,  0.99981276, ..., -0.6222389 ,\n",
       "         2.35530647,  1.13245629],\n",
       "       [ 1.38685008,  0.67419986, -0.9220888 , ..., -0.6222389 ,\n",
       "         2.35530647, -0.57881099],\n",
       "       [-0.04536425,  0.67419986, -0.9220888 , ..., -0.6222389 ,\n",
       "         1.3302771 , -0.57881099]])"
      ]
     },
     "execution_count": 29,
     "metadata": {},
     "output_type": "execute_result"
    }
   ],
   "source": [
    "X_train"
   ]
  },
  {
   "cell_type": "code",
   "execution_count": 30,
   "metadata": {},
   "outputs": [
    {
     "data": {
      "text/plain": [
       "True"
      ]
     },
     "execution_count": 30,
     "metadata": {},
     "output_type": "execute_result"
    }
   ],
   "source": [
    "len(imporatance) == len(data.columns)"
   ]
  },
  {
   "cell_type": "code",
   "execution_count": 31,
   "metadata": {},
   "outputs": [
    {
     "data": {
      "text/plain": [
       "array([ 0.09756836,  0.02728813,  0.11695868,  0.06923246,  0.08260597,\n",
       "        0.00699643,  0.0182262 ,  0.14459771,  0.04657016,  0.11615533,\n",
       "        0.05194623,  0.13347137,  0.08838297])"
      ]
     },
     "execution_count": 31,
     "metadata": {},
     "output_type": "execute_result"
    }
   ],
   "source": [
    "imporatance"
   ]
  },
  {
   "cell_type": "code",
   "execution_count": 32,
   "metadata": {},
   "outputs": [
    {
     "data": {
      "text/plain": [
       "['thalach',\n",
       " 'ca',\n",
       " 'cp',\n",
       " 'oldpeak',\n",
       " 'age',\n",
       " 'thal',\n",
       " 'chol',\n",
       " 'trestbps',\n",
       " 'slope',\n",
       " 'exang',\n",
       " 'sex',\n",
       " 'restecg',\n",
       " 'fbs']"
      ]
     },
     "execution_count": 32,
     "metadata": {},
     "output_type": "execute_result"
    }
   ],
   "source": [
    "indices\n",
    "labels_order = []\n",
    "for i in range(len(indices)):\n",
    "    labels_order.append(data_labels[indices[i]])\n",
    "labels_order"
   ]
  },
  {
   "cell_type": "code",
   "execution_count": 33,
   "metadata": {
    "scrolled": true
   },
   "outputs": [
    {
     "name": "stdout",
     "output_type": "stream",
     "text": [
      "1 ) thalach\t0.14459771108760844\n",
      "2 ) ca\t0.133471367181436\n",
      "3 ) cp\t0.1169586761852447\n",
      "4 ) oldpeak\t0.11615532598501593\n",
      "5 ) age\t0.09756836095414001\n",
      "6 ) thal\t0.08838297154358603\n",
      "7 ) chol\t0.08260597009116778\n",
      "8 ) trestbps\t0.06923245997610694\n",
      "9 ) slope\t0.05194623432619857\n",
      "10 ) exang\t0.04657016273919601\n",
      "11 ) sex\t0.027288129221462273\n",
      "12 ) restecg\t0.018226203240318883\n",
      "13 ) fbs\t0.006996427468518698\n"
     ]
    }
   ],
   "source": [
    "\n",
    "for i in range(X_train.shape[1]):\n",
    "    print(\"{} ) {}\\t{}\".format(i + 1 , data_labels[indices[i]] , imporatance[indices[i]]))\n",
    "  \n",
    "   \n",
    "    "
   ]
  },
  {
   "cell_type": "code",
   "execution_count": 34,
   "metadata": {},
   "outputs": [
    {
     "data": {
      "text/plain": [
       "range(0, 13)"
      ]
     },
     "execution_count": 34,
     "metadata": {},
     "output_type": "execute_result"
    }
   ],
   "source": [
    "range(X_train.shape[1])"
   ]
  },
  {
   "cell_type": "code",
   "execution_count": 35,
   "metadata": {},
   "outputs": [
    {
     "data": {
      "image/png": "[encoded data removed]",
      "text/plain": [
       "<matplotlib.figure.Figure at 0x7f6645914a20>"
      ]
     },
     "metadata": {},
     "output_type": "display_data"
    }
   ],
   "source": [
    "\n",
    "plt.figure(figsize=(20,10))\n",
    "plt.title(\"Feature Importance\")\n",
    "\n",
    "plt.bar(range(X_train.shape[1]) , imporatance[indices] , align = \"center\")\n",
    "plt.xticks(range(X_train.shape[1]) , labels_order , rotation = 90)\n",
    "plt.xlim([-1 , X_train.shape[1]])\n",
    "plt.tight_layout()\n",
    "plt.show()"
   ]
  },
  {
   "cell_type": "code",
   "execution_count": 36,
   "metadata": {},
   "outputs": [
    {
     "data": {
      "text/html": [
       "<div>\n",
       "<style>\n",
       "    .dataframe thead tr:only-child th {\n",
       "        text-align: right;\n",
       "    }\n",
       "\n",
       "    .dataframe thead th {\n",
       "        text-align: left;\n",
       "    }\n",
       "\n",
       "    .dataframe tbody tr th {\n",
       "        vertical-align: top;\n",
       "    }\n",
       "</style>\n",
       "<table border=\"1\" class=\"dataframe\">\n",
       "  <thead>\n",
       "    <tr style=\"text-align: right;\">\n",
       "      <th></th>\n",
       "      <th>age</th>\n",
       "      <th>sex</th>\n",
       "      <th>cp</th>\n",
       "      <th>trestbps</th>\n",
       "      <th>chol</th>\n",
       "      <th>thalach</th>\n",
       "      <th>oldpeak</th>\n",
       "      <th>slope</th>\n",
       "      <th>ca</th>\n",
       "      <th>thal</th>\n",
       "    </tr>\n",
       "  </thead>\n",
       "  <tbody>\n",
       "    <tr>\n",
       "      <th>0</th>\n",
       "      <td>57</td>\n",
       "      <td>0</td>\n",
       "      <td>0</td>\n",
       "      <td>120</td>\n",
       "      <td>354</td>\n",
       "      <td>163</td>\n",
       "      <td>0.6</td>\n",
       "      <td>2</td>\n",
       "      <td>0</td>\n",
       "      <td>2</td>\n",
       "    </tr>\n",
       "    <tr>\n",
       "      <th>1</th>\n",
       "      <td>58</td>\n",
       "      <td>0</td>\n",
       "      <td>0</td>\n",
       "      <td>100</td>\n",
       "      <td>248</td>\n",
       "      <td>122</td>\n",
       "      <td>1.0</td>\n",
       "      <td>1</td>\n",
       "      <td>0</td>\n",
       "      <td>2</td>\n",
       "    </tr>\n",
       "    <tr>\n",
       "      <th>2</th>\n",
       "      <td>57</td>\n",
       "      <td>1</td>\n",
       "      <td>0</td>\n",
       "      <td>110</td>\n",
       "      <td>201</td>\n",
       "      <td>126</td>\n",
       "      <td>1.5</td>\n",
       "      <td>1</td>\n",
       "      <td>0</td>\n",
       "      <td>1</td>\n",
       "    </tr>\n",
       "    <tr>\n",
       "      <th>3</th>\n",
       "      <td>52</td>\n",
       "      <td>1</td>\n",
       "      <td>1</td>\n",
       "      <td>120</td>\n",
       "      <td>325</td>\n",
       "      <td>172</td>\n",
       "      <td>0.2</td>\n",
       "      <td>2</td>\n",
       "      <td>0</td>\n",
       "      <td>2</td>\n",
       "    </tr>\n",
       "    <tr>\n",
       "      <th>4</th>\n",
       "      <td>58</td>\n",
       "      <td>1</td>\n",
       "      <td>0</td>\n",
       "      <td>125</td>\n",
       "      <td>300</td>\n",
       "      <td>171</td>\n",
       "      <td>0.0</td>\n",
       "      <td>2</td>\n",
       "      <td>2</td>\n",
       "      <td>3</td>\n",
       "    </tr>\n",
       "  </tbody>\n",
       "</table>\n",
       "</div>"
      ],
      "text/plain": [
       "   age  sex  cp  trestbps  chol  thalach  oldpeak  slope  ca  thal\n",
       "0   57    0   0       120   354      163      0.6      2   0     2\n",
       "1   58    0   0       100   248      122      1.0      1   0     2\n",
       "2   57    1   0       110   201      126      1.5      1   0     1\n",
       "3   52    1   1       120   325      172      0.2      2   0     2\n",
       "4   58    1   0       125   300      171      0.0      2   2     3"
      ]
     },
     "execution_count": 36,
     "metadata": {},
     "output_type": "execute_result"
    }
   ],
   "source": [
    "drop_data = data.drop([\"fbs\" , \"restecg\" , \"exang\"] , axis = 1)\n",
    "drop_data.head()"
   ]
  },
  {
   "cell_type": "code",
   "execution_count": 37,
   "metadata": {},
   "outputs": [
    {
     "name": "stdout",
     "output_type": "stream",
     "text": [
      "X_train =>217 , X_test =>  55\n",
      "y_train => 217 , y_test =>  55\n"
     ]
    }
   ],
   "source": [
    "drop_data_std = std_scaler.fit_transform(drop_data)\n",
    "\n",
    "X_train , X_test , y_train , y_test = train_test_split(data_std , labels , test_size = 0.2 , random_state = 42)\n",
    "print(\"X_train =>{} , X_test =>  {}\\ny_train => {} , y_test =>  {}\".format(len(X_train) , len(X_test) , len(y_train) , len(y_test)))"
   ]
  },
  {
   "cell_type": "code",
   "execution_count": 38,
   "metadata": {},
   "outputs": [
    {
     "data": {
      "text/plain": [
       "DecisionTreeClassifier(class_weight=None, criterion='gini', max_depth=None,\n",
       "            max_features=None, max_leaf_nodes=None,\n",
       "            min_impurity_decrease=0.0, min_impurity_split=None,\n",
       "            min_samples_leaf=1, min_samples_split=2,\n",
       "            min_weight_fraction_leaf=0.0, presort=False, random_state=42,\n",
       "            splitter='best')"
      ]
     },
     "execution_count": 38,
     "metadata": {},
     "output_type": "execute_result"
    }
   ],
   "source": [
    "\n",
    "des_classifier = DecisionTreeClassifier(random_state = 42)\n",
    "des_classifier.fit(X_train , y_train)"
   ]
  },
  {
   "cell_type": "code",
   "execution_count": 39,
   "metadata": {},
   "outputs": [
    {
     "name": "stdout",
     "output_type": "stream",
     "text": [
      "Accuracy Score : 0.7636363636363637\n"
     ]
    },
    {
     "data": {
      "image/png": "[encoded data removed]",
      "text/plain": [
       "<matplotlib.figure.Figure at 0x7f6645e74c88>"
      ]
     },
     "metadata": {},
     "output_type": "display_data"
    }
   ],
   "source": [
    "show_classifier_result(des_classifier)"
   ]
  },
  {
   "cell_type": "code",
   "execution_count": 40,
   "metadata": {},
   "outputs": [
    {
     "name": "stdout",
     "output_type": "stream",
     "text": [
      "Accuracy Score : 0.8181818181818182\n"
     ]
    },
    {
     "data": {
      "image/png": "[encoded data removed]",
      "text/plain": [
       "<matplotlib.figure.Figure at 0x7f6645d745f8>"
      ]
     },
     "metadata": {},
     "output_type": "display_data"
    }
   ],
   "source": [
    "sv_cls = SVC()\n",
    "sv_cls.fit(X_train , y_train)\n",
    "show_classifier_result(sv_cls)"
   ]
  },
  {
   "cell_type": "code",
   "execution_count": 41,
   "metadata": {},
   "outputs": [
    {
     "name": "stdout",
     "output_type": "stream",
     "text": [
      "Accuracy Score : 0.8181818181818182\n"
     ]
    },
    {
     "data": {
      "image/png": "[encoded data removed]",
      "text/plain": [
       "<matplotlib.figure.Figure at 0x7f664e666f60>"
      ]
     },
     "metadata": {},
     "output_type": "display_data"
    }
   ],
   "source": [
    "sgd_clf = SGDClassifier(loss=\"hinge\", penalty=\"l2\", max_iter=5)\n",
    "sgd_clf.fit(X_train , y_train)\n",
    "show_classifier_result(sgd_clf)"
   ]
  },
  {
   "cell_type": "code",
   "execution_count": 42,
   "metadata": {
    "collapsed": true
   },
   "outputs": [],
   "source": [
    "from sklearn.discriminant_analysis import LinearDiscriminantAnalysis as LDA\n",
    "\n",
    "lda = LDA(n_components = 2)\n",
    "X_train_lda = lda.fit_transform(X_train , y_train)"
   ]
  },
  {
   "cell_type": "code",
   "execution_count": 43,
   "metadata": {
    "collapsed": true
   },
   "outputs": [],
   "source": [
    "X_test_lda = lda.fit_transform(X_test , y_test)"
   ]
  },
  {
   "cell_type": "code",
   "execution_count": 44,
   "metadata": {},
   "outputs": [
    {
     "name": "stdout",
     "output_type": "stream",
     "text": [
      "Accuracy Score : 0.9090909090909091\n"
     ]
    },
    {
     "data": {
      "image/png": "[encoded data removed]",
      "text/plain": [
       "<matplotlib.figure.Figure at 0x7f664582fb00>"
      ]
     },
     "metadata": {},
     "output_type": "display_data"
    }
   ],
   "source": [
    "des_classifier.fit(X_train_lda , y_train)\n",
    "show_classifier_result(des_classifier , X_test_lda)"
   ]
  },
  {
   "cell_type": "code",
   "execution_count": 45,
   "metadata": {},
   "outputs": [
    {
     "name": "stdout",
     "output_type": "stream",
     "text": [
      "Fold 0 => 0.75\n",
      "Fold 1 => 0.8571428571428571\n",
      "Fold 2 => 0.75\n",
      "Fold 3 => 0.8148148148148148\n",
      "Fold 4 => 0.8888888888888888\n",
      "Fold 5 => 0.8518518518518519\n",
      "Fold 6 => 0.8461538461538461\n",
      "Fold 7 => 0.8076923076923077\n"
     ]
    }
   ],
   "source": [
    "from sklearn.model_selection import cross_val_score\n",
    "scores = cross_val_score(estimator = des_classifier , X = X_train_lda , y = y_train ,\n",
    "                        cv = 8 , n_jobs = 1)\n",
    "\n",
    "for index , score in enumerate(scores):\n",
    "    print(\"Fold {} => {}\".format(index ,score))"
   ]
  },
  {
   "cell_type": "code",
   "execution_count": 46,
   "metadata": {},
   "outputs": [
    {
     "name": "stdout",
     "output_type": "stream",
     "text": [
      "Accuracy Score : 0.8909090909090909\n"
     ]
    },
    {
     "data": {
      "image/png": "[encoded data removed]",
      "text/plain": [
       "<matplotlib.figure.Figure at 0x7f664c08a048>"
      ]
     },
     "metadata": {},
     "output_type": "display_data"
    }
   ],
   "source": [
    "sv_cls = SVC()\n",
    "sv_cls.fit(X_train_lda , y_train)\n",
    "show_classifier_result(sv_cls , X_test_lda)"
   ]
  },
  {
   "cell_type": "code",
   "execution_count": 47,
   "metadata": {},
   "outputs": [
    {
     "name": "stdout",
     "output_type": "stream",
     "text": [
      "Fold 0 => 0.8571428571428571\n",
      "Fold 1 => 0.9642857142857143\n",
      "Fold 2 => 0.8214285714285714\n",
      "Fold 3 => 0.7407407407407407\n",
      "Fold 4 => 0.9259259259259259\n",
      "Fold 5 => 0.9259259259259259\n",
      "Fold 6 => 0.9230769230769231\n",
      "Fold 7 => 0.7692307692307693\n"
     ]
    }
   ],
   "source": [
    "scores = cross_val_score(estimator = sv_cls  , X = X_train_lda , y = y_train ,\n",
    "                        cv = 8 , n_jobs = 1)\n",
    "\n",
    "for index , score in enumerate(scores):\n",
    "    print(\"Fold {} => {}\".format(index ,score))"
   ]
  },
  {
   "cell_type": "code",
   "execution_count": 48,
   "metadata": {},
   "outputs": [
    {
     "name": "stdout",
     "output_type": "stream",
     "text": [
      "Accuracy Score : 0.8181818181818182\n"
     ]
    },
    {
     "data": {
      "image/png": "[encoded data removed]",
      "text/plain": [
       "<matplotlib.figure.Figure at 0x7f664e399fd0>"
      ]
     },
     "metadata": {},
     "output_type": "display_data"
    }
   ],
   "source": [
    "sgd_clf = SGDClassifier(loss=\"hinge\", penalty=\"l2\", max_iter=5)\n",
    "sgd_clf.fit(X_train_lda , y_train)\n",
    "show_classifier_result(sgd_clf , X_test_lda)"
   ]
  },
  {
   "cell_type": "code",
   "execution_count": 49,
   "metadata": {},
   "outputs": [
    {
     "name": "stdout",
     "output_type": "stream",
     "text": [
      "Fold 0 => 0.6071428571428571\n",
      "Fold 1 => 0.9285714285714286\n",
      "Fold 2 => 0.8214285714285714\n",
      "Fold 3 => 0.7407407407407407\n",
      "Fold 4 => 0.7777777777777778\n",
      "Fold 5 => 0.8888888888888888\n",
      "Fold 6 => 0.9615384615384616\n",
      "Fold 7 => 0.8461538461538461\n"
     ]
    }
   ],
   "source": [
    "scores = cross_val_score(estimator = sgd_clf  , X = X_train_lda , y = y_train ,\n",
    "                        cv = 8 , n_jobs = 1)\n",
    "\n",
    "for index , score in enumerate(scores):\n",
    "    print(\"Fold {} => {}\".format(index ,score))"
   ]
  },
  {
   "cell_type": "code",
   "execution_count": 50,
   "metadata": {},
   "outputs": [
    {
     "data": {
      "text/plain": [
       "KNeighborsClassifier(algorithm='auto', leaf_size=30, metric='minkowski',\n",
       "           metric_params=None, n_jobs=1, n_neighbors=3, p=2,\n",
       "           weights='uniform')"
      ]
     },
     "execution_count": 50,
     "metadata": {},
     "output_type": "execute_result"
    }
   ],
   "source": [
    "from sklearn.neighbors import KNeighborsClassifier\n",
    "neigh = KNeighborsClassifier(n_neighbors=3)\n",
    "neigh.fit(X_train_lda, y_train) "
   ]
  },
  {
   "cell_type": "code",
   "execution_count": 51,
   "metadata": {},
   "outputs": [
    {
     "name": "stdout",
     "output_type": "stream",
     "text": [
      "Accuracy Score : 0.9090909090909091\n"
     ]
    },
    {
     "data": {
      "image/png": "[encoded data removed]",
      "text/plain": [
       "<matplotlib.figure.Figure at 0x7f66453236d8>"
      ]
     },
     "metadata": {},
     "output_type": "display_data"
    }
   ],
   "source": [
    "show_classifier_result(neigh , X_test_lda)"
   ]
  },
  {
   "cell_type": "code",
   "execution_count": 52,
   "metadata": {},
   "outputs": [
    {
     "name": "stdout",
     "output_type": "stream",
     "text": [
      "Fold 0 => 0.8571428571428571\n",
      "Fold 1 => 0.9285714285714286\n",
      "Fold 2 => 0.8571428571428571\n",
      "Fold 3 => 0.7777777777777778\n",
      "Fold 4 => 0.8888888888888888\n",
      "Fold 5 => 0.9629629629629629\n",
      "Fold 6 => 0.9230769230769231\n",
      "Fold 7 => 0.8461538461538461\n"
     ]
    }
   ],
   "source": [
    "scores = cross_val_score(estimator = neigh  , X = X_train_lda , y = y_train ,\n",
    "                        cv = 8 , n_jobs = 1)\n",
    "\n",
    "for index , score in enumerate(scores):\n",
    "    print(\"Fold {} => {}\".format(index ,score))"
   ]
  },
  {
   "cell_type": "code",
   "execution_count": 53,
   "metadata": {},
   "outputs": [
    {
     "data": {
      "text/plain": [
       "pandas.core.series.Series"
      ]
     },
     "execution_count": 53,
     "metadata": {},
     "output_type": "execute_result"
    }
   ],
   "source": [
    "type(y_train)"
   ]
  },
  {
   "cell_type": "code",
   "execution_count": 54,
   "metadata": {},
   "outputs": [
    {
     "data": {
      "text/plain": [
       "RandomizedSearchCV(cv=5, error_score='raise',\n",
       "          estimator=SVC(C=1.0, cache_size=200, class_weight=None, coef0=0.0,\n",
       "  decision_function_shape='ovr', degree=3, gamma='auto', kernel='rbf',\n",
       "  max_iter=-1, probability=False, random_state=None, shrinking=True,\n",
       "  tol=0.001, verbose=False),\n",
       "          fit_params=None, iid=True, n_iter=3, n_jobs=1,\n",
       "          param_distributions={'kernel': ['linear', 'rbf'], 'C': [0.0001, 0.001, 0.01, 0.1, 1.0, 10.0, 100.0, 1000.0]},\n",
       "          pre_dispatch='2*n_jobs', random_state=None, refit=True,\n",
       "          return_train_score=True, scoring=None, verbose=0)"
      ]
     },
     "execution_count": 54,
     "metadata": {},
     "output_type": "execute_result"
    }
   ],
   "source": [
    "from sklearn.model_selection import RandomizedSearchCV\n",
    "\n",
    "param_range = [0.0001 , 0.001 , 0.01 , 0.1 , 1.0 , 10.0 , 100.0 , 1000.0]\n",
    "\n",
    "'''\n",
    "param_grid = [ {\"svc__C\" : param_range , \"svc__kernel\" : [\"linear\"]} ,\n",
    "              {\"svc__C\" : param_range , \"svc__gamma\" : param_range ,\n",
    "              \"svc__kernel\" : [\"rbf\"]}]\n",
    "              \n",
    "'''\n",
    "              \n",
    "param_dist = { \"C\" :param_range , \"kernel\" : [\"linear\" , \"rbf\"] }\n",
    "               \n",
    "random_search = RandomizedSearchCV(sv_cls , param_distributions= param_dist , n_iter = 3, cv = 5)\n",
    "random_search.fit(X_train_lda , y_train.values)"
   ]
  },
  {
   "cell_type": "code",
   "execution_count": 55,
   "metadata": {},
   "outputs": [
    {
     "data": {
      "text/plain": [
       "{'mean_fit_time': array([ 0.08711448,  0.00457468,  0.01669841]),\n",
       " 'mean_score_time': array([ 0.00141525,  0.00144467,  0.00145464]),\n",
       " 'mean_test_score': array([ 0.87096774,  0.87096774,  0.87557604]),\n",
       " 'mean_train_score': array([ 0.87787371,  0.87439229,  0.87556157]),\n",
       " 'param_C': masked_array(data = [1000.0 1.0 100.0],\n",
       "              mask = [False False False],\n",
       "        fill_value = ?),\n",
       " 'param_kernel': masked_array(data = ['rbf' 'rbf' 'rbf'],\n",
       "              mask = [False False False],\n",
       "        fill_value = ?),\n",
       " 'params': [{'C': 1000.0, 'kernel': 'rbf'},\n",
       "  {'C': 1.0, 'kernel': 'rbf'},\n",
       "  {'C': 100.0, 'kernel': 'rbf'}],\n",
       " 'rank_test_score': array([2, 2, 1], dtype=int32),\n",
       " 'split0_test_score': array([ 0.88636364,  0.86363636,  0.88636364]),\n",
       " 'split0_train_score': array([ 0.87283237,  0.85549133,  0.86705202]),\n",
       " 'split1_test_score': array([ 0.88636364,  0.88636364,  0.88636364]),\n",
       " 'split1_train_score': array([ 0.87861272,  0.87861272,  0.86705202]),\n",
       " 'split2_test_score': array([ 0.79545455,  0.79545455,  0.79545455]),\n",
       " 'split2_train_score': array([ 0.88439306,  0.87861272,  0.89017341]),\n",
       " 'split3_test_score': array([ 0.93023256,  0.95348837,  0.95348837]),\n",
       " 'split3_train_score': array([ 0.86781609,  0.86781609,  0.86781609]),\n",
       " 'split4_test_score': array([ 0.85714286,  0.85714286,  0.85714286]),\n",
       " 'split4_train_score': array([ 0.88571429,  0.89142857,  0.88571429]),\n",
       " 'std_fit_time': array([ 0.03801374,  0.00077148,  0.00308333]),\n",
       " 'std_score_time': array([ 0.00011709,  0.00039432,  0.00029607]),\n",
       " 'std_test_score': array([ 0.04455694,  0.05100536,  0.05116125]),\n",
       " 'std_train_score': array([ 0.00679843,  0.01205281,  0.01021177])}"
      ]
     },
     "execution_count": 55,
     "metadata": {},
     "output_type": "execute_result"
    }
   ],
   "source": [
    "\n",
    "random_search.cv_results_"
   ]
  },
  {
   "cell_type": "code",
   "execution_count": 56,
   "metadata": {},
   "outputs": [
    {
     "name": "stdout",
     "output_type": "stream",
     "text": [
      "Model with rank: 1\n",
      "Mean validation score: 0.876 (std: 0.051)\n",
      "Parameters: {'kernel': 'rbf', 'C': 100.0}\n",
      "\n",
      "Model with rank: 2\n",
      "Mean validation score: 0.871 (std: 0.045)\n",
      "Parameters: {'kernel': 'rbf', 'C': 1000.0}\n",
      "\n",
      "Model with rank: 2\n",
      "Mean validation score: 0.871 (std: 0.051)\n",
      "Parameters: {'kernel': 'rbf', 'C': 1.0}\n",
      "\n"
     ]
    }
   ],
   "source": [
    "\n",
    "def report(results, n_top=3):\n",
    "    for i in range(1, n_top + 1):\n",
    "        candidates = np.flatnonzero(results['rank_test_score'] == i)\n",
    "        for candidate in candidates:\n",
    "            print(\"Model with rank: {0}\".format(i))\n",
    "            print(\"Mean validation score: {0:.3f} (std: {1:.3f})\".format(\n",
    "                  results['mean_test_score'][candidate],\n",
    "                  results['std_test_score'][candidate]))\n",
    "            print(\"Parameters: {0}\".format(results['params'][candidate]))\n",
    "            print(\"\")\n",
    "            \n",
    "report(random_search.cv_results_ , n_top= 5)\n"
   ]
  },
  {
   "cell_type": "code",
   "execution_count": 57,
   "metadata": {},
   "outputs": [
    {
     "name": "stdout",
     "output_type": "stream",
     "text": [
      "Accuracy Score : 0.8909090909090909\n"
     ]
    },
    {
     "data": {
      "image/png": "[encoded data removed]",
      "text/plain": [
       "<matplotlib.figure.Figure at 0x7f664c750518>"
      ]
     },
     "metadata": {},
     "output_type": "display_data"
    }
   ],
   "source": [
    "\n",
    "naive_cls = GaussianNB()\n",
    "naive_cls.fit(X_train_lda , y_train)\n",
    "show_classifier_result(naive_cls , X_test_lda)"
   ]
  },
  {
   "cell_type": "code",
   "execution_count": 58,
   "metadata": {},
   "outputs": [
    {
     "name": "stdout",
     "output_type": "stream",
     "text": [
      "Fold 0 => 0.8571428571428571\n",
      "Fold 1 => 0.9642857142857143\n",
      "Fold 2 => 0.8214285714285714\n",
      "Fold 3 => 0.7407407407407407\n",
      "Fold 4 => 0.9259259259259259\n",
      "Fold 5 => 0.9259259259259259\n",
      "Fold 6 => 0.9615384615384616\n",
      "Fold 7 => 0.7692307692307693\n"
     ]
    }
   ],
   "source": [
    "scores = cross_val_score(estimator = naive_cls  , X = X_train_lda , y = y_train ,\n",
    "                        cv = 8 , n_jobs = 1)\n",
    "\n",
    "for index , score in enumerate(scores):\n",
    "    print(\"Fold {} => {}\".format(index ,score))"
   ]
  }
 ],
 "metadata": {
  "kernelspec": {
   "display_name": "Python 3",
   "language": "python",
   "name": "python3"
  },
  "language_info": {
   "codemirror_mode": {
    "name": "ipython",
    "version": 3
   },
   "file_extension": ".py",
   "mimetype": "text/x-python",
   "name": "python",
   "nbconvert_exporter": "python",
   "pygments_lexer": "ipython3",
   "version": "3.5.4"
  }
 },
 "nbformat": 4,
 "nbformat_minor": 2
}
