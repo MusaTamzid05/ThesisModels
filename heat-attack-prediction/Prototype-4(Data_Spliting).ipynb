{
 "cells": [
  {
   "cell_type": "code",
   "execution_count": 61,
   "metadata": {
    "collapsed": true
   },
   "outputs": [],
   "source": [
    "import pandas as pd\n",
    "import numpy as np\n",
    "from matplotlib import pyplot as plt"
   ]
  },
  {
   "cell_type": "code",
   "execution_count": 62,
   "metadata": {},
   "outputs": [
    {
     "data": {
      "text/html": [
       "<div>\n",
       "<style>\n",
       "    .dataframe thead tr:only-child th {\n",
       "        text-align: right;\n",
       "    }\n",
       "\n",
       "    .dataframe thead th {\n",
       "        text-align: left;\n",
       "    }\n",
       "\n",
       "    .dataframe tbody tr th {\n",
       "        vertical-align: top;\n",
       "    }\n",
       "</style>\n",
       "<table border=\"1\" class=\"dataframe\">\n",
       "  <thead>\n",
       "    <tr style=\"text-align: right;\">\n",
       "      <th></th>\n",
       "      <th>age</th>\n",
       "      <th>sex</th>\n",
       "      <th>cp</th>\n",
       "      <th>trestbps</th>\n",
       "      <th>chol</th>\n",
       "      <th>fbs</th>\n",
       "      <th>restecg</th>\n",
       "      <th>thalach</th>\n",
       "      <th>exang</th>\n",
       "      <th>oldpeak</th>\n",
       "      <th>slope</th>\n",
       "      <th>ca</th>\n",
       "      <th>thal</th>\n",
       "      <th>target</th>\n",
       "    </tr>\n",
       "  </thead>\n",
       "  <tbody>\n",
       "    <tr>\n",
       "      <th>0</th>\n",
       "      <td>63</td>\n",
       "      <td>1</td>\n",
       "      <td>3</td>\n",
       "      <td>145</td>\n",
       "      <td>233</td>\n",
       "      <td>1</td>\n",
       "      <td>0</td>\n",
       "      <td>150</td>\n",
       "      <td>0</td>\n",
       "      <td>2.3</td>\n",
       "      <td>0</td>\n",
       "      <td>0</td>\n",
       "      <td>1</td>\n",
       "      <td>1</td>\n",
       "    </tr>\n",
       "    <tr>\n",
       "      <th>1</th>\n",
       "      <td>37</td>\n",
       "      <td>1</td>\n",
       "      <td>2</td>\n",
       "      <td>130</td>\n",
       "      <td>250</td>\n",
       "      <td>0</td>\n",
       "      <td>1</td>\n",
       "      <td>187</td>\n",
       "      <td>0</td>\n",
       "      <td>3.5</td>\n",
       "      <td>0</td>\n",
       "      <td>0</td>\n",
       "      <td>2</td>\n",
       "      <td>1</td>\n",
       "    </tr>\n",
       "    <tr>\n",
       "      <th>2</th>\n",
       "      <td>41</td>\n",
       "      <td>0</td>\n",
       "      <td>1</td>\n",
       "      <td>130</td>\n",
       "      <td>204</td>\n",
       "      <td>0</td>\n",
       "      <td>0</td>\n",
       "      <td>172</td>\n",
       "      <td>0</td>\n",
       "      <td>1.4</td>\n",
       "      <td>2</td>\n",
       "      <td>0</td>\n",
       "      <td>2</td>\n",
       "      <td>1</td>\n",
       "    </tr>\n",
       "    <tr>\n",
       "      <th>3</th>\n",
       "      <td>56</td>\n",
       "      <td>1</td>\n",
       "      <td>1</td>\n",
       "      <td>120</td>\n",
       "      <td>236</td>\n",
       "      <td>0</td>\n",
       "      <td>1</td>\n",
       "      <td>178</td>\n",
       "      <td>0</td>\n",
       "      <td>0.8</td>\n",
       "      <td>2</td>\n",
       "      <td>0</td>\n",
       "      <td>2</td>\n",
       "      <td>1</td>\n",
       "    </tr>\n",
       "    <tr>\n",
       "      <th>4</th>\n",
       "      <td>57</td>\n",
       "      <td>0</td>\n",
       "      <td>0</td>\n",
       "      <td>120</td>\n",
       "      <td>354</td>\n",
       "      <td>0</td>\n",
       "      <td>1</td>\n",
       "      <td>163</td>\n",
       "      <td>1</td>\n",
       "      <td>0.6</td>\n",
       "      <td>2</td>\n",
       "      <td>0</td>\n",
       "      <td>2</td>\n",
       "      <td>1</td>\n",
       "    </tr>\n",
       "  </tbody>\n",
       "</table>\n",
       "</div>"
      ],
      "text/plain": [
       "   age  sex  cp  trestbps  chol  fbs  restecg  thalach  exang  oldpeak  slope  \\\n",
       "0   63    1   3       145   233    1        0      150      0      2.3      0   \n",
       "1   37    1   2       130   250    0        1      187      0      3.5      0   \n",
       "2   41    0   1       130   204    0        0      172      0      1.4      2   \n",
       "3   56    1   1       120   236    0        1      178      0      0.8      2   \n",
       "4   57    0   0       120   354    0        1      163      1      0.6      2   \n",
       "\n",
       "   ca  thal  target  \n",
       "0   0     1       1  \n",
       "1   0     2       1  \n",
       "2   0     2       1  \n",
       "3   0     2       1  \n",
       "4   0     2       1  "
      ]
     },
     "execution_count": 62,
     "metadata": {},
     "output_type": "execute_result"
    }
   ],
   "source": [
    "heart_data = pd.read_csv(\"./heart.csv\")\n",
    "heart_data.head()"
   ]
  },
  {
   "cell_type": "code",
   "execution_count": 63,
   "metadata": {
    "collapsed": true
   },
   "outputs": [],
   "source": [
    "from sklearn.model_selection import train_test_split\n",
    "\n",
    "train_set , test_set = train_test_split(heart_data , test_size = 0.2 , random_state = 42)"
   ]
  },
  {
   "cell_type": "code",
   "execution_count": 64,
   "metadata": {},
   "outputs": [
    {
     "data": {
      "text/plain": [
       "242"
      ]
     },
     "execution_count": 64,
     "metadata": {},
     "output_type": "execute_result"
    }
   ],
   "source": [
    "len(train_set)"
   ]
  },
  {
   "cell_type": "code",
   "execution_count": 65,
   "metadata": {},
   "outputs": [
    {
     "data": {
      "text/html": [
       "<div>\n",
       "<style>\n",
       "    .dataframe thead tr:only-child th {\n",
       "        text-align: right;\n",
       "    }\n",
       "\n",
       "    .dataframe thead th {\n",
       "        text-align: left;\n",
       "    }\n",
       "\n",
       "    .dataframe tbody tr th {\n",
       "        vertical-align: top;\n",
       "    }\n",
       "</style>\n",
       "<table border=\"1\" class=\"dataframe\">\n",
       "  <thead>\n",
       "    <tr style=\"text-align: right;\">\n",
       "      <th></th>\n",
       "      <th>age</th>\n",
       "      <th>sex</th>\n",
       "      <th>cp</th>\n",
       "      <th>trestbps</th>\n",
       "      <th>chol</th>\n",
       "      <th>fbs</th>\n",
       "      <th>restecg</th>\n",
       "      <th>thalach</th>\n",
       "      <th>exang</th>\n",
       "      <th>oldpeak</th>\n",
       "      <th>slope</th>\n",
       "      <th>ca</th>\n",
       "      <th>thal</th>\n",
       "      <th>target</th>\n",
       "    </tr>\n",
       "  </thead>\n",
       "  <tbody>\n",
       "    <tr>\n",
       "      <th>132</th>\n",
       "      <td>42</td>\n",
       "      <td>1</td>\n",
       "      <td>1</td>\n",
       "      <td>120</td>\n",
       "      <td>295</td>\n",
       "      <td>0</td>\n",
       "      <td>1</td>\n",
       "      <td>162</td>\n",
       "      <td>0</td>\n",
       "      <td>0.0</td>\n",
       "      <td>2</td>\n",
       "      <td>0</td>\n",
       "      <td>2</td>\n",
       "      <td>1</td>\n",
       "    </tr>\n",
       "    <tr>\n",
       "      <th>202</th>\n",
       "      <td>58</td>\n",
       "      <td>1</td>\n",
       "      <td>0</td>\n",
       "      <td>150</td>\n",
       "      <td>270</td>\n",
       "      <td>0</td>\n",
       "      <td>0</td>\n",
       "      <td>111</td>\n",
       "      <td>1</td>\n",
       "      <td>0.8</td>\n",
       "      <td>2</td>\n",
       "      <td>0</td>\n",
       "      <td>3</td>\n",
       "      <td>0</td>\n",
       "    </tr>\n",
       "    <tr>\n",
       "      <th>196</th>\n",
       "      <td>46</td>\n",
       "      <td>1</td>\n",
       "      <td>2</td>\n",
       "      <td>150</td>\n",
       "      <td>231</td>\n",
       "      <td>0</td>\n",
       "      <td>1</td>\n",
       "      <td>147</td>\n",
       "      <td>0</td>\n",
       "      <td>3.6</td>\n",
       "      <td>1</td>\n",
       "      <td>0</td>\n",
       "      <td>2</td>\n",
       "      <td>0</td>\n",
       "    </tr>\n",
       "    <tr>\n",
       "      <th>75</th>\n",
       "      <td>55</td>\n",
       "      <td>0</td>\n",
       "      <td>1</td>\n",
       "      <td>135</td>\n",
       "      <td>250</td>\n",
       "      <td>0</td>\n",
       "      <td>0</td>\n",
       "      <td>161</td>\n",
       "      <td>0</td>\n",
       "      <td>1.4</td>\n",
       "      <td>1</td>\n",
       "      <td>0</td>\n",
       "      <td>2</td>\n",
       "      <td>1</td>\n",
       "    </tr>\n",
       "    <tr>\n",
       "      <th>176</th>\n",
       "      <td>60</td>\n",
       "      <td>1</td>\n",
       "      <td>0</td>\n",
       "      <td>117</td>\n",
       "      <td>230</td>\n",
       "      <td>1</td>\n",
       "      <td>1</td>\n",
       "      <td>160</td>\n",
       "      <td>1</td>\n",
       "      <td>1.4</td>\n",
       "      <td>2</td>\n",
       "      <td>2</td>\n",
       "      <td>3</td>\n",
       "      <td>0</td>\n",
       "    </tr>\n",
       "  </tbody>\n",
       "</table>\n",
       "</div>"
      ],
      "text/plain": [
       "     age  sex  cp  trestbps  chol  fbs  restecg  thalach  exang  oldpeak  \\\n",
       "132   42    1   1       120   295    0        1      162      0      0.0   \n",
       "202   58    1   0       150   270    0        0      111      1      0.8   \n",
       "196   46    1   2       150   231    0        1      147      0      3.6   \n",
       "75    55    0   1       135   250    0        0      161      0      1.4   \n",
       "176   60    1   0       117   230    1        1      160      1      1.4   \n",
       "\n",
       "     slope  ca  thal  target  \n",
       "132      2   0     2       1  \n",
       "202      2   0     3       0  \n",
       "196      1   0     2       0  \n",
       "75       1   0     2       1  \n",
       "176      2   2     3       0  "
      ]
     },
     "execution_count": 65,
     "metadata": {},
     "output_type": "execute_result"
    }
   ],
   "source": [
    "train_set.head()"
   ]
  },
  {
   "cell_type": "code",
   "execution_count": 66,
   "metadata": {},
   "outputs": [
    {
     "data": {
      "image/png": "[encoded data removed]",
      "text/plain": [
       "<matplotlib.figure.Figure at 0x7fdbad0eb6a0>"
      ]
     },
     "metadata": {},
     "output_type": "display_data"
    }
   ],
   "source": [
    "n , bins , patches = plt.hist(heart_data[\"age\"] , bins = 80   )\n",
    "plt.show()"
   ]
  },
  {
   "cell_type": "code",
   "execution_count": 67,
   "metadata": {},
   "outputs": [
    {
     "data": {
      "text/html": [
       "<div>\n",
       "<style>\n",
       "    .dataframe thead tr:only-child th {\n",
       "        text-align: right;\n",
       "    }\n",
       "\n",
       "    .dataframe thead th {\n",
       "        text-align: left;\n",
       "    }\n",
       "\n",
       "    .dataframe tbody tr th {\n",
       "        vertical-align: top;\n",
       "    }\n",
       "</style>\n",
       "<table border=\"1\" class=\"dataframe\">\n",
       "  <thead>\n",
       "    <tr style=\"text-align: right;\">\n",
       "      <th></th>\n",
       "      <th>age</th>\n",
       "      <th>sex</th>\n",
       "      <th>cp</th>\n",
       "      <th>trestbps</th>\n",
       "      <th>chol</th>\n",
       "      <th>fbs</th>\n",
       "      <th>restecg</th>\n",
       "      <th>thalach</th>\n",
       "      <th>exang</th>\n",
       "      <th>oldpeak</th>\n",
       "      <th>slope</th>\n",
       "      <th>ca</th>\n",
       "      <th>thal</th>\n",
       "      <th>target</th>\n",
       "      <th>temp_age</th>\n",
       "    </tr>\n",
       "  </thead>\n",
       "  <tbody>\n",
       "    <tr>\n",
       "      <th>count</th>\n",
       "      <td>303.000000</td>\n",
       "      <td>303.000000</td>\n",
       "      <td>303.000000</td>\n",
       "      <td>303.000000</td>\n",
       "      <td>303.000000</td>\n",
       "      <td>303.000000</td>\n",
       "      <td>303.000000</td>\n",
       "      <td>303.000000</td>\n",
       "      <td>303.000000</td>\n",
       "      <td>303.000000</td>\n",
       "      <td>303.000000</td>\n",
       "      <td>303.000000</td>\n",
       "      <td>303.000000</td>\n",
       "      <td>303.000000</td>\n",
       "      <td>303.000000</td>\n",
       "    </tr>\n",
       "    <tr>\n",
       "      <th>mean</th>\n",
       "      <td>54.366337</td>\n",
       "      <td>0.683168</td>\n",
       "      <td>0.966997</td>\n",
       "      <td>131.623762</td>\n",
       "      <td>246.264026</td>\n",
       "      <td>0.148515</td>\n",
       "      <td>0.528053</td>\n",
       "      <td>149.646865</td>\n",
       "      <td>0.326733</td>\n",
       "      <td>1.039604</td>\n",
       "      <td>1.399340</td>\n",
       "      <td>0.729373</td>\n",
       "      <td>2.313531</td>\n",
       "      <td>0.544554</td>\n",
       "      <td>54.419142</td>\n",
       "    </tr>\n",
       "    <tr>\n",
       "      <th>std</th>\n",
       "      <td>9.082101</td>\n",
       "      <td>0.466011</td>\n",
       "      <td>1.032052</td>\n",
       "      <td>17.538143</td>\n",
       "      <td>51.830751</td>\n",
       "      <td>0.356198</td>\n",
       "      <td>0.525860</td>\n",
       "      <td>22.905161</td>\n",
       "      <td>0.469794</td>\n",
       "      <td>1.161075</td>\n",
       "      <td>0.616226</td>\n",
       "      <td>1.022606</td>\n",
       "      <td>0.612277</td>\n",
       "      <td>0.498835</td>\n",
       "      <td>8.435138</td>\n",
       "    </tr>\n",
       "    <tr>\n",
       "      <th>min</th>\n",
       "      <td>29.000000</td>\n",
       "      <td>0.000000</td>\n",
       "      <td>0.000000</td>\n",
       "      <td>94.000000</td>\n",
       "      <td>126.000000</td>\n",
       "      <td>0.000000</td>\n",
       "      <td>0.000000</td>\n",
       "      <td>71.000000</td>\n",
       "      <td>0.000000</td>\n",
       "      <td>0.000000</td>\n",
       "      <td>0.000000</td>\n",
       "      <td>0.000000</td>\n",
       "      <td>0.000000</td>\n",
       "      <td>0.000000</td>\n",
       "      <td>40.000000</td>\n",
       "    </tr>\n",
       "    <tr>\n",
       "      <th>25%</th>\n",
       "      <td>47.500000</td>\n",
       "      <td>0.000000</td>\n",
       "      <td>0.000000</td>\n",
       "      <td>120.000000</td>\n",
       "      <td>211.000000</td>\n",
       "      <td>0.000000</td>\n",
       "      <td>0.000000</td>\n",
       "      <td>133.500000</td>\n",
       "      <td>0.000000</td>\n",
       "      <td>0.000000</td>\n",
       "      <td>1.000000</td>\n",
       "      <td>0.000000</td>\n",
       "      <td>2.000000</td>\n",
       "      <td>0.000000</td>\n",
       "      <td>47.500000</td>\n",
       "    </tr>\n",
       "    <tr>\n",
       "      <th>50%</th>\n",
       "      <td>55.000000</td>\n",
       "      <td>1.000000</td>\n",
       "      <td>1.000000</td>\n",
       "      <td>130.000000</td>\n",
       "      <td>240.000000</td>\n",
       "      <td>0.000000</td>\n",
       "      <td>1.000000</td>\n",
       "      <td>153.000000</td>\n",
       "      <td>0.000000</td>\n",
       "      <td>0.800000</td>\n",
       "      <td>1.000000</td>\n",
       "      <td>0.000000</td>\n",
       "      <td>2.000000</td>\n",
       "      <td>1.000000</td>\n",
       "      <td>55.000000</td>\n",
       "    </tr>\n",
       "    <tr>\n",
       "      <th>75%</th>\n",
       "      <td>61.000000</td>\n",
       "      <td>1.000000</td>\n",
       "      <td>2.000000</td>\n",
       "      <td>140.000000</td>\n",
       "      <td>274.500000</td>\n",
       "      <td>0.000000</td>\n",
       "      <td>1.000000</td>\n",
       "      <td>166.000000</td>\n",
       "      <td>1.000000</td>\n",
       "      <td>1.600000</td>\n",
       "      <td>2.000000</td>\n",
       "      <td>1.000000</td>\n",
       "      <td>3.000000</td>\n",
       "      <td>1.000000</td>\n",
       "      <td>61.000000</td>\n",
       "    </tr>\n",
       "    <tr>\n",
       "      <th>max</th>\n",
       "      <td>77.000000</td>\n",
       "      <td>1.000000</td>\n",
       "      <td>3.000000</td>\n",
       "      <td>200.000000</td>\n",
       "      <td>564.000000</td>\n",
       "      <td>1.000000</td>\n",
       "      <td>2.000000</td>\n",
       "      <td>202.000000</td>\n",
       "      <td>1.000000</td>\n",
       "      <td>6.200000</td>\n",
       "      <td>2.000000</td>\n",
       "      <td>4.000000</td>\n",
       "      <td>3.000000</td>\n",
       "      <td>1.000000</td>\n",
       "      <td>68.000000</td>\n",
       "    </tr>\n",
       "  </tbody>\n",
       "</table>\n",
       "</div>"
      ],
      "text/plain": [
       "              age         sex          cp    trestbps        chol         fbs  \\\n",
       "count  303.000000  303.000000  303.000000  303.000000  303.000000  303.000000   \n",
       "mean    54.366337    0.683168    0.966997  131.623762  246.264026    0.148515   \n",
       "std      9.082101    0.466011    1.032052   17.538143   51.830751    0.356198   \n",
       "min     29.000000    0.000000    0.000000   94.000000  126.000000    0.000000   \n",
       "25%     47.500000    0.000000    0.000000  120.000000  211.000000    0.000000   \n",
       "50%     55.000000    1.000000    1.000000  130.000000  240.000000    0.000000   \n",
       "75%     61.000000    1.000000    2.000000  140.000000  274.500000    0.000000   \n",
       "max     77.000000    1.000000    3.000000  200.000000  564.000000    1.000000   \n",
       "\n",
       "          restecg     thalach       exang     oldpeak       slope          ca  \\\n",
       "count  303.000000  303.000000  303.000000  303.000000  303.000000  303.000000   \n",
       "mean     0.528053  149.646865    0.326733    1.039604    1.399340    0.729373   \n",
       "std      0.525860   22.905161    0.469794    1.161075    0.616226    1.022606   \n",
       "min      0.000000   71.000000    0.000000    0.000000    0.000000    0.000000   \n",
       "25%      0.000000  133.500000    0.000000    0.000000    1.000000    0.000000   \n",
       "50%      1.000000  153.000000    0.000000    0.800000    1.000000    0.000000   \n",
       "75%      1.000000  166.000000    1.000000    1.600000    2.000000    1.000000   \n",
       "max      2.000000  202.000000    1.000000    6.200000    2.000000    4.000000   \n",
       "\n",
       "             thal      target    temp_age  \n",
       "count  303.000000  303.000000  303.000000  \n",
       "mean     2.313531    0.544554   54.419142  \n",
       "std      0.612277    0.498835    8.435138  \n",
       "min      0.000000    0.000000   40.000000  \n",
       "25%      2.000000    0.000000   47.500000  \n",
       "50%      2.000000    1.000000   55.000000  \n",
       "75%      3.000000    1.000000   61.000000  \n",
       "max      3.000000    1.000000   68.000000  "
      ]
     },
     "execution_count": 67,
     "metadata": {},
     "output_type": "execute_result"
    }
   ],
   "source": [
    "heart_data[\"temp_age\"] = heart_data[\"age\"]\n",
    "heart_data[\"temp_age\"].where(heart_data[\"age\"] < 68.0 , 68.0 , inplace = True)\n",
    "heart_data[\"temp_age\"].where(heart_data[\"age\"] > 40.0 , 40.0 , inplace = True)\n",
    "heart_data.describe()\n"
   ]
  },
  {
   "cell_type": "code",
   "execution_count": 68,
   "metadata": {
    "collapsed": true
   },
   "outputs": [],
   "source": [
    "from sklearn.model_selection import StratifiedShuffleSplit\n",
    "\n",
    "split = StratifiedShuffleSplit(n_splits = 1 , test_size = 0.2 , random_state = 42)\n",
    "\n",
    "for train_index , test_index in split.split(heart_data , heart_data[\"temp_age\"]):\n",
    "    strat_train_set = heart_data.loc[train_index]\n",
    "    strat_test_set = heart_data.loc[test_index]"
   ]
  },
  {
   "cell_type": "code",
   "execution_count": 69,
   "metadata": {},
   "outputs": [
    {
     "data": {
      "text/plain": [
       "242"
      ]
     },
     "execution_count": 69,
     "metadata": {},
     "output_type": "execute_result"
    }
   ],
   "source": [
    "len(strat_train_set)"
   ]
  },
  {
   "cell_type": "code",
   "execution_count": 70,
   "metadata": {
    "collapsed": true
   },
   "outputs": [],
   "source": [
    "\n",
    "def temp_age_proportion(df):\n",
    "    return df[\"temp_age\"].value_counts() / len(df)\n",
    "    \n",
    "    "
   ]
  },
  {
   "cell_type": "code",
   "execution_count": 71,
   "metadata": {},
   "outputs": [
    {
     "data": {
      "text/html": [
       "<div>\n",
       "<style>\n",
       "    .dataframe thead tr:only-child th {\n",
       "        text-align: right;\n",
       "    }\n",
       "\n",
       "    .dataframe thead th {\n",
       "        text-align: left;\n",
       "    }\n",
       "\n",
       "    .dataframe tbody tr th {\n",
       "        vertical-align: top;\n",
       "    }\n",
       "</style>\n",
       "<table border=\"1\" class=\"dataframe\">\n",
       "  <thead>\n",
       "    <tr style=\"text-align: right;\">\n",
       "      <th></th>\n",
       "      <th>Overall</th>\n",
       "      <th>Random</th>\n",
       "      <th>Stratified</th>\n",
       "      <th>Random %Error</th>\n",
       "      <th>Strat.  %Error</th>\n",
       "    </tr>\n",
       "  </thead>\n",
       "  <tbody>\n",
       "    <tr>\n",
       "      <th>40</th>\n",
       "      <td>0.062706</td>\n",
       "      <td>0.065574</td>\n",
       "      <td>0.065574</td>\n",
       "      <td>4.572908</td>\n",
       "      <td>4.572908</td>\n",
       "    </tr>\n",
       "    <tr>\n",
       "      <th>41</th>\n",
       "      <td>0.033003</td>\n",
       "      <td>0.032787</td>\n",
       "      <td>0.032787</td>\n",
       "      <td>-0.655738</td>\n",
       "      <td>-0.655738</td>\n",
       "    </tr>\n",
       "    <tr>\n",
       "      <th>42</th>\n",
       "      <td>0.026403</td>\n",
       "      <td>NaN</td>\n",
       "      <td>0.032787</td>\n",
       "      <td>NaN</td>\n",
       "      <td>24.180328</td>\n",
       "    </tr>\n",
       "    <tr>\n",
       "      <th>43</th>\n",
       "      <td>0.026403</td>\n",
       "      <td>0.016393</td>\n",
       "      <td>0.032787</td>\n",
       "      <td>-37.909836</td>\n",
       "      <td>24.180328</td>\n",
       "    </tr>\n",
       "    <tr>\n",
       "      <th>44</th>\n",
       "      <td>0.036304</td>\n",
       "      <td>0.049180</td>\n",
       "      <td>0.032787</td>\n",
       "      <td>35.469449</td>\n",
       "      <td>-9.687034</td>\n",
       "    </tr>\n",
       "    <tr>\n",
       "      <th>45</th>\n",
       "      <td>0.026403</td>\n",
       "      <td>0.049180</td>\n",
       "      <td>0.032787</td>\n",
       "      <td>86.270492</td>\n",
       "      <td>24.180328</td>\n",
       "    </tr>\n",
       "    <tr>\n",
       "      <th>46</th>\n",
       "      <td>0.023102</td>\n",
       "      <td>0.049180</td>\n",
       "      <td>0.016393</td>\n",
       "      <td>112.880562</td>\n",
       "      <td>-29.039813</td>\n",
       "    </tr>\n",
       "    <tr>\n",
       "      <th>47</th>\n",
       "      <td>0.016502</td>\n",
       "      <td>NaN</td>\n",
       "      <td>0.016393</td>\n",
       "      <td>NaN</td>\n",
       "      <td>-0.655738</td>\n",
       "    </tr>\n",
       "    <tr>\n",
       "      <th>48</th>\n",
       "      <td>0.023102</td>\n",
       "      <td>0.032787</td>\n",
       "      <td>0.016393</td>\n",
       "      <td>41.920375</td>\n",
       "      <td>-29.039813</td>\n",
       "    </tr>\n",
       "    <tr>\n",
       "      <th>49</th>\n",
       "      <td>0.016502</td>\n",
       "      <td>NaN</td>\n",
       "      <td>0.016393</td>\n",
       "      <td>NaN</td>\n",
       "      <td>-0.655738</td>\n",
       "    </tr>\n",
       "    <tr>\n",
       "      <th>50</th>\n",
       "      <td>0.023102</td>\n",
       "      <td>0.049180</td>\n",
       "      <td>0.016393</td>\n",
       "      <td>112.880562</td>\n",
       "      <td>-29.039813</td>\n",
       "    </tr>\n",
       "    <tr>\n",
       "      <th>51</th>\n",
       "      <td>0.039604</td>\n",
       "      <td>0.032787</td>\n",
       "      <td>0.032787</td>\n",
       "      <td>-17.213115</td>\n",
       "      <td>-17.213115</td>\n",
       "    </tr>\n",
       "    <tr>\n",
       "      <th>52</th>\n",
       "      <td>0.042904</td>\n",
       "      <td>0.065574</td>\n",
       "      <td>0.049180</td>\n",
       "      <td>52.837327</td>\n",
       "      <td>14.627995</td>\n",
       "    </tr>\n",
       "    <tr>\n",
       "      <th>53</th>\n",
       "      <td>0.026403</td>\n",
       "      <td>NaN</td>\n",
       "      <td>0.032787</td>\n",
       "      <td>NaN</td>\n",
       "      <td>24.180328</td>\n",
       "    </tr>\n",
       "    <tr>\n",
       "      <th>54</th>\n",
       "      <td>0.052805</td>\n",
       "      <td>0.049180</td>\n",
       "      <td>0.049180</td>\n",
       "      <td>-6.864754</td>\n",
       "      <td>-6.864754</td>\n",
       "    </tr>\n",
       "    <tr>\n",
       "      <th>55</th>\n",
       "      <td>0.026403</td>\n",
       "      <td>0.016393</td>\n",
       "      <td>0.032787</td>\n",
       "      <td>-37.909836</td>\n",
       "      <td>24.180328</td>\n",
       "    </tr>\n",
       "    <tr>\n",
       "      <th>56</th>\n",
       "      <td>0.036304</td>\n",
       "      <td>0.049180</td>\n",
       "      <td>0.032787</td>\n",
       "      <td>35.469449</td>\n",
       "      <td>-9.687034</td>\n",
       "    </tr>\n",
       "    <tr>\n",
       "      <th>57</th>\n",
       "      <td>0.056106</td>\n",
       "      <td>0.081967</td>\n",
       "      <td>0.049180</td>\n",
       "      <td>46.094503</td>\n",
       "      <td>-12.343298</td>\n",
       "    </tr>\n",
       "    <tr>\n",
       "      <th>58</th>\n",
       "      <td>0.062706</td>\n",
       "      <td>0.032787</td>\n",
       "      <td>0.065574</td>\n",
       "      <td>-47.713546</td>\n",
       "      <td>4.572908</td>\n",
       "    </tr>\n",
       "    <tr>\n",
       "      <th>59</th>\n",
       "      <td>0.046205</td>\n",
       "      <td>0.065574</td>\n",
       "      <td>0.049180</td>\n",
       "      <td>41.920375</td>\n",
       "      <td>6.440281</td>\n",
       "    </tr>\n",
       "    <tr>\n",
       "      <th>60</th>\n",
       "      <td>0.036304</td>\n",
       "      <td>0.032787</td>\n",
       "      <td>0.032787</td>\n",
       "      <td>-9.687034</td>\n",
       "      <td>-9.687034</td>\n",
       "    </tr>\n",
       "    <tr>\n",
       "      <th>61</th>\n",
       "      <td>0.026403</td>\n",
       "      <td>0.032787</td>\n",
       "      <td>0.032787</td>\n",
       "      <td>24.180328</td>\n",
       "      <td>24.180328</td>\n",
       "    </tr>\n",
       "    <tr>\n",
       "      <th>62</th>\n",
       "      <td>0.036304</td>\n",
       "      <td>0.049180</td>\n",
       "      <td>0.032787</td>\n",
       "      <td>35.469449</td>\n",
       "      <td>-9.687034</td>\n",
       "    </tr>\n",
       "    <tr>\n",
       "      <th>63</th>\n",
       "      <td>0.029703</td>\n",
       "      <td>0.016393</td>\n",
       "      <td>0.032787</td>\n",
       "      <td>-44.808743</td>\n",
       "      <td>10.382514</td>\n",
       "    </tr>\n",
       "    <tr>\n",
       "      <th>64</th>\n",
       "      <td>0.033003</td>\n",
       "      <td>0.032787</td>\n",
       "      <td>0.032787</td>\n",
       "      <td>-0.655738</td>\n",
       "      <td>-0.655738</td>\n",
       "    </tr>\n",
       "    <tr>\n",
       "      <th>65</th>\n",
       "      <td>0.026403</td>\n",
       "      <td>NaN</td>\n",
       "      <td>0.032787</td>\n",
       "      <td>NaN</td>\n",
       "      <td>24.180328</td>\n",
       "    </tr>\n",
       "    <tr>\n",
       "      <th>66</th>\n",
       "      <td>0.023102</td>\n",
       "      <td>0.016393</td>\n",
       "      <td>0.016393</td>\n",
       "      <td>-29.039813</td>\n",
       "      <td>-29.039813</td>\n",
       "    </tr>\n",
       "    <tr>\n",
       "      <th>67</th>\n",
       "      <td>0.029703</td>\n",
       "      <td>0.016393</td>\n",
       "      <td>0.032787</td>\n",
       "      <td>-44.808743</td>\n",
       "      <td>10.382514</td>\n",
       "    </tr>\n",
       "    <tr>\n",
       "      <th>68</th>\n",
       "      <td>0.056106</td>\n",
       "      <td>0.065574</td>\n",
       "      <td>0.049180</td>\n",
       "      <td>16.875603</td>\n",
       "      <td>-12.343298</td>\n",
       "    </tr>\n",
       "  </tbody>\n",
       "</table>\n",
       "</div>"
      ],
      "text/plain": [
       "     Overall    Random  Stratified  Random %Error  Strat.  %Error\n",
       "40  0.062706  0.065574    0.065574       4.572908        4.572908\n",
       "41  0.033003  0.032787    0.032787      -0.655738       -0.655738\n",
       "42  0.026403       NaN    0.032787            NaN       24.180328\n",
       "43  0.026403  0.016393    0.032787     -37.909836       24.180328\n",
       "44  0.036304  0.049180    0.032787      35.469449       -9.687034\n",
       "45  0.026403  0.049180    0.032787      86.270492       24.180328\n",
       "46  0.023102  0.049180    0.016393     112.880562      -29.039813\n",
       "47  0.016502       NaN    0.016393            NaN       -0.655738\n",
       "48  0.023102  0.032787    0.016393      41.920375      -29.039813\n",
       "49  0.016502       NaN    0.016393            NaN       -0.655738\n",
       "50  0.023102  0.049180    0.016393     112.880562      -29.039813\n",
       "51  0.039604  0.032787    0.032787     -17.213115      -17.213115\n",
       "52  0.042904  0.065574    0.049180      52.837327       14.627995\n",
       "53  0.026403       NaN    0.032787            NaN       24.180328\n",
       "54  0.052805  0.049180    0.049180      -6.864754       -6.864754\n",
       "55  0.026403  0.016393    0.032787     -37.909836       24.180328\n",
       "56  0.036304  0.049180    0.032787      35.469449       -9.687034\n",
       "57  0.056106  0.081967    0.049180      46.094503      -12.343298\n",
       "58  0.062706  0.032787    0.065574     -47.713546        4.572908\n",
       "59  0.046205  0.065574    0.049180      41.920375        6.440281\n",
       "60  0.036304  0.032787    0.032787      -9.687034       -9.687034\n",
       "61  0.026403  0.032787    0.032787      24.180328       24.180328\n",
       "62  0.036304  0.049180    0.032787      35.469449       -9.687034\n",
       "63  0.029703  0.016393    0.032787     -44.808743       10.382514\n",
       "64  0.033003  0.032787    0.032787      -0.655738       -0.655738\n",
       "65  0.026403       NaN    0.032787            NaN       24.180328\n",
       "66  0.023102  0.016393    0.016393     -29.039813      -29.039813\n",
       "67  0.029703  0.016393    0.032787     -44.808743       10.382514\n",
       "68  0.056106  0.065574    0.049180      16.875603      -12.343298"
      ]
     },
     "execution_count": 71,
     "metadata": {},
     "output_type": "execute_result"
    }
   ],
   "source": [
    "\n",
    "train_set , test_set = train_test_split(heart_data , test_size = 0.2 , random_state = 42)\n",
    "compare_props = pd.DataFrame({\n",
    "    \"Overall\" : temp_age_proportion(heart_data),\n",
    "    \"Stratified\" : temp_age_proportion(strat_test_set),\n",
    "    \"Random\" : temp_age_proportion(test_set),\n",
    "}).sort_index()\n",
    "\n",
    "compare_props[\"Random %Error\"] = 100 * compare_props[\"Random\"] / compare_props[\"Overall\"] - 100\n",
    "compare_props[\"Strat.  %Error\"] = 100 * compare_props[\"Stratified\"] / compare_props[\"Overall\"] - 100\n",
    "\n",
    "compare_props"
   ]
  },
  {
   "cell_type": "code",
   "execution_count": 72,
   "metadata": {},
   "outputs": [
    {
     "data": {
      "text/plain": [
       "57    5\n",
       "68    4\n",
       "40    4\n",
       "59    4\n",
       "52    4\n",
       "50    3\n",
       "46    3\n",
       "56    3\n",
       "44    3\n",
       "54    3\n",
       "45    3\n",
       "62    3\n",
       "41    2\n",
       "64    2\n",
       "48    2\n",
       "51    2\n",
       "58    2\n",
       "60    2\n",
       "61    2\n",
       "55    1\n",
       "43    1\n",
       "67    1\n",
       "66    1\n",
       "63    1\n",
       "Name: temp_age, dtype: int64"
      ]
     },
     "execution_count": 72,
     "metadata": {},
     "output_type": "execute_result"
    }
   ],
   "source": [
    "test_set[\"temp_age\"].sort_index().value_counts()"
   ]
  },
  {
   "cell_type": "code",
   "execution_count": 73,
   "metadata": {},
   "outputs": [
    {
     "data": {
      "text/plain": [
       "40    19\n",
       "41    10\n",
       "42     8\n",
       "43     8\n",
       "44    11\n",
       "45     8\n",
       "46     7\n",
       "47     5\n",
       "48     7\n",
       "49     5\n",
       "50     7\n",
       "51    12\n",
       "52    13\n",
       "53     8\n",
       "54    16\n",
       "55     8\n",
       "56    11\n",
       "57    17\n",
       "58    19\n",
       "59    14\n",
       "60    11\n",
       "61     8\n",
       "62    11\n",
       "63     9\n",
       "64    10\n",
       "65     8\n",
       "66     7\n",
       "67     9\n",
       "68    17\n",
       "Name: temp_age, dtype: int64"
      ]
     },
     "execution_count": 73,
     "metadata": {},
     "output_type": "execute_result"
    }
   ],
   "source": [
    "heart_data[\"temp_age\"].value_counts().sort_index()"
   ]
  },
  {
   "cell_type": "code",
   "execution_count": 74,
   "metadata": {
    "collapsed": true
   },
   "outputs": [],
   "source": [
    "for set_ in (strat_train_set, strat_test_set):\n",
    "    set_.drop(\"temp_age\", axis=1, inplace=True)"
   ]
  },
  {
   "cell_type": "code",
   "execution_count": 75,
   "metadata": {},
   "outputs": [
    {
     "data": {
      "text/html": [
       "<div>\n",
       "<style>\n",
       "    .dataframe thead tr:only-child th {\n",
       "        text-align: right;\n",
       "    }\n",
       "\n",
       "    .dataframe thead th {\n",
       "        text-align: left;\n",
       "    }\n",
       "\n",
       "    .dataframe tbody tr th {\n",
       "        vertical-align: top;\n",
       "    }\n",
       "</style>\n",
       "<table border=\"1\" class=\"dataframe\">\n",
       "  <thead>\n",
       "    <tr style=\"text-align: right;\">\n",
       "      <th></th>\n",
       "      <th>age</th>\n",
       "      <th>sex</th>\n",
       "      <th>cp</th>\n",
       "      <th>trestbps</th>\n",
       "      <th>chol</th>\n",
       "      <th>fbs</th>\n",
       "      <th>restecg</th>\n",
       "      <th>thalach</th>\n",
       "      <th>exang</th>\n",
       "      <th>oldpeak</th>\n",
       "      <th>slope</th>\n",
       "      <th>ca</th>\n",
       "      <th>thal</th>\n",
       "      <th>target</th>\n",
       "    </tr>\n",
       "  </thead>\n",
       "  <tbody>\n",
       "    <tr>\n",
       "      <th>256</th>\n",
       "      <td>58</td>\n",
       "      <td>1</td>\n",
       "      <td>0</td>\n",
       "      <td>128</td>\n",
       "      <td>259</td>\n",
       "      <td>0</td>\n",
       "      <td>0</td>\n",
       "      <td>130</td>\n",
       "      <td>1</td>\n",
       "      <td>3.0</td>\n",
       "      <td>1</td>\n",
       "      <td>2</td>\n",
       "      <td>3</td>\n",
       "      <td>0</td>\n",
       "    </tr>\n",
       "    <tr>\n",
       "      <th>205</th>\n",
       "      <td>52</td>\n",
       "      <td>1</td>\n",
       "      <td>0</td>\n",
       "      <td>128</td>\n",
       "      <td>255</td>\n",
       "      <td>0</td>\n",
       "      <td>1</td>\n",
       "      <td>161</td>\n",
       "      <td>1</td>\n",
       "      <td>0.0</td>\n",
       "      <td>2</td>\n",
       "      <td>1</td>\n",
       "      <td>3</td>\n",
       "      <td>0</td>\n",
       "    </tr>\n",
       "    <tr>\n",
       "      <th>44</th>\n",
       "      <td>39</td>\n",
       "      <td>1</td>\n",
       "      <td>2</td>\n",
       "      <td>140</td>\n",
       "      <td>321</td>\n",
       "      <td>0</td>\n",
       "      <td>0</td>\n",
       "      <td>182</td>\n",
       "      <td>0</td>\n",
       "      <td>0.0</td>\n",
       "      <td>2</td>\n",
       "      <td>0</td>\n",
       "      <td>2</td>\n",
       "      <td>1</td>\n",
       "    </tr>\n",
       "    <tr>\n",
       "      <th>110</th>\n",
       "      <td>64</td>\n",
       "      <td>0</td>\n",
       "      <td>0</td>\n",
       "      <td>180</td>\n",
       "      <td>325</td>\n",
       "      <td>0</td>\n",
       "      <td>1</td>\n",
       "      <td>154</td>\n",
       "      <td>1</td>\n",
       "      <td>0.0</td>\n",
       "      <td>2</td>\n",
       "      <td>0</td>\n",
       "      <td>2</td>\n",
       "      <td>1</td>\n",
       "    </tr>\n",
       "    <tr>\n",
       "      <th>71</th>\n",
       "      <td>51</td>\n",
       "      <td>1</td>\n",
       "      <td>2</td>\n",
       "      <td>94</td>\n",
       "      <td>227</td>\n",
       "      <td>0</td>\n",
       "      <td>1</td>\n",
       "      <td>154</td>\n",
       "      <td>1</td>\n",
       "      <td>0.0</td>\n",
       "      <td>2</td>\n",
       "      <td>1</td>\n",
       "      <td>3</td>\n",
       "      <td>1</td>\n",
       "    </tr>\n",
       "  </tbody>\n",
       "</table>\n",
       "</div>"
      ],
      "text/plain": [
       "     age  sex  cp  trestbps  chol  fbs  restecg  thalach  exang  oldpeak  \\\n",
       "256   58    1   0       128   259    0        0      130      1      3.0   \n",
       "205   52    1   0       128   255    0        1      161      1      0.0   \n",
       "44    39    1   2       140   321    0        0      182      0      0.0   \n",
       "110   64    0   0       180   325    0        1      154      1      0.0   \n",
       "71    51    1   2        94   227    0        1      154      1      0.0   \n",
       "\n",
       "     slope  ca  thal  target  \n",
       "256      1   2     3       0  \n",
       "205      2   1     3       0  \n",
       "44       2   0     2       1  \n",
       "110      2   0     2       1  \n",
       "71       2   1     3       1  "
      ]
     },
     "execution_count": 75,
     "metadata": {},
     "output_type": "execute_result"
    }
   ],
   "source": [
    "strat_train_set.head()"
   ]
  },
  {
   "cell_type": "code",
   "execution_count": 76,
   "metadata": {},
   "outputs": [
    {
     "data": {
      "text/plain": [
       "True"
      ]
     },
     "execution_count": 76,
     "metadata": {},
     "output_type": "execute_result"
    }
   ],
   "source": [
    "strat_train_X = strat_train_set.drop(\"target\" , axis = 1)\n",
    "strat_train_y = strat_train_set[\"target\"]\n",
    "\n",
    "len(strat_train_X) == len(strat_train_y)"
   ]
  },
  {
   "cell_type": "code",
   "execution_count": 77,
   "metadata": {},
   "outputs": [
    {
     "data": {
      "text/plain": [
       "True"
      ]
     },
     "execution_count": 77,
     "metadata": {},
     "output_type": "execute_result"
    }
   ],
   "source": [
    "strat_test_X = strat_test_set.drop(\"target\" , axis = 1)\n",
    "strat_test_y = strat_test_set[\"target\"]\n",
    "\n",
    "len(strat_test_X) == len(strat_test_y)"
   ]
  },
  {
   "cell_type": "code",
   "execution_count": 78,
   "metadata": {},
   "outputs": [],
   "source": [
    "from sklearn.preprocessing import StandardScaler\n",
    "\n",
    "std_scale = StandardScaler().fit(strat_train_X)\n",
    "strat_train_X_std  = std_scale.transform(strat_train_X)\n",
    "strat_test_X_std = std_scale.transform(strat_test_X)"
   ]
  },
  {
   "cell_type": "code",
   "execution_count": 79,
   "metadata": {},
   "outputs": [
    {
     "data": {
      "text/plain": [
       "DecisionTreeClassifier(class_weight=None, criterion='gini', max_depth=None,\n",
       "            max_features=None, max_leaf_nodes=None,\n",
       "            min_impurity_decrease=0.0, min_impurity_split=None,\n",
       "            min_samples_leaf=1, min_samples_split=2,\n",
       "            min_weight_fraction_leaf=0.0, presort=False, random_state=42,\n",
       "            splitter='best')"
      ]
     },
     "execution_count": 79,
     "metadata": {},
     "output_type": "execute_result"
    }
   ],
   "source": [
    "from sklearn.tree import DecisionTreeClassifier\n",
    "\n",
    "des_classifier = DecisionTreeClassifier(random_state = 42)\n",
    "des_classifier.fit(strat_train_X_std , strat_train_y)\n"
   ]
  },
  {
   "cell_type": "code",
   "execution_count": 80,
   "metadata": {
    "collapsed": true
   },
   "outputs": [],
   "source": [
    "predictions = des_classifier.predict(strat_test_X_std)"
   ]
  },
  {
   "cell_type": "code",
   "execution_count": 81,
   "metadata": {
    "collapsed": true
   },
   "outputs": [],
   "source": [
    "from sklearn.metrics import confusion_matrix\n",
    "from sklearn.metrics import accuracy_score\n",
    "\n",
    "def draw_confusion_matrix(y_test , predictions):\n",
    "    confmat = confusion_matrix(y_true = y_test , y_pred = predictions)\n",
    "    \n",
    "    fig , ax = plt.subplots(figsize = (12 , 10))\n",
    "    ax.matshow(confmat , cmap = plt.cm.Blues)\n",
    "    \n",
    "    for i in range(confmat.shape[0]):\n",
    "        for j in range(confmat.shape[1]):\n",
    "            ax.text( x = j , y = i , s  = confmat[i , j] , va = \"center\" , ha = \"center\")\n",
    "            \n",
    "    plt.xlabel(\"Prediction Label\")\n",
    "    plt.ylabel(\"true label\")\n",
    "    plt.show()\n",
    "\n",
    "\n",
    "def show_classifier_result(cls , X_test , y_test):\n",
    "    \n",
    "    predictions = cls.predict(X_test)\n",
    "    score = accuracy_score(predictions , y_test)\n",
    "    \n",
    "    print(\"Accuracy Score : {}\".format(score))\n",
    "    draw_confusion_matrix(y_test , predictions)\n",
    "    "
   ]
  },
  {
   "cell_type": "code",
   "execution_count": 82,
   "metadata": {},
   "outputs": [
    {
     "name": "stdout",
     "output_type": "stream",
     "text": [
      "Accuracy Score : 0.7213114754098361\n"
     ]
    },
    {
     "data": {
      "image/png": "[encoded data removed]",
      "text/plain": [
       "<matplotlib.figure.Figure at 0x7fdbacedc5f8>"
      ]
     },
     "metadata": {},
     "output_type": "display_data"
    }
   ],
   "source": [
    "show_classifier_result(des_classifier , strat_test_X_std , strat_test_y)"
   ]
  },
  {
   "cell_type": "code",
   "execution_count": 83,
   "metadata": {
    "collapsed": true
   },
   "outputs": [],
   "source": [
    "from sklearn.discriminant_analysis import LinearDiscriminantAnalysis as LDA\n",
    "\n",
    "lda = LDA(n_components = 2)\n",
    "strat_train_X_std_lda  = lda.fit_transform(strat_train_X_std , strat_train_y)\n",
    "strat_test_X_std_lda  = lda.transform(strat_test_X_std)"
   ]
  },
  {
   "cell_type": "code",
   "execution_count": 84,
   "metadata": {},
   "outputs": [
    {
     "name": "stdout",
     "output_type": "stream",
     "text": [
      "Accuracy Score : 0.7540983606557377\n"
     ]
    },
    {
     "data": {
      "image/png": "[encoded data removed]",
      "text/plain": [
       "<matplotlib.figure.Figure at 0x7fdbace7e400>"
      ]
     },
     "metadata": {},
     "output_type": "display_data"
    }
   ],
   "source": [
    "des_classifier.fit(strat_train_X_std_lda , strat_train_y)\n",
    "show_classifier_result(des_classifier , strat_test_X_std_lda , strat_test_y)"
   ]
  },
  {
   "cell_type": "code",
   "execution_count": 85,
   "metadata": {},
   "outputs": [
    {
     "name": "stdout",
     "output_type": "stream",
     "text": [
      "165\n",
      "138\n"
     ]
    }
   ],
   "source": [
    "pos_count = 0\n",
    "neg_count = 0\n",
    "for label in heart_data[\"target\"]:\n",
    "    if label == 1:\n",
    "        pos_count += 1\n",
    "    else:\n",
    "        neg_count += 1\n",
    "        \n",
    "print(pos_count)\n",
    "print(neg_count)"
   ]
  },
  {
   "cell_type": "code",
   "execution_count": 86,
   "metadata": {},
   "outputs": [
    {
     "name": "stdout",
     "output_type": "stream",
     "text": [
      "Fold 0 => 0.6857142857142857\n",
      "Fold 1 => 0.9714285714285714\n",
      "Fold 2 => 0.8285714285714286\n",
      "Fold 3 => 0.7714285714285715\n",
      "Fold 4 => 0.7941176470588235\n",
      "Fold 5 => 0.9117647058823529\n",
      "Fold 6 => 0.7647058823529411\n"
     ]
    }
   ],
   "source": [
    "from sklearn.model_selection import cross_val_score\n",
    "\n",
    "n_folds = 7\n",
    "scores = cross_val_score(estimator = des_classifier , X = strat_train_X_std_lda , y = strat_train_y ,\n",
    "                        cv = n_folds , n_jobs = 1)\n",
    "\n",
    "for index , score in enumerate(scores):\n",
    "    print(\"Fold {} => {}\".format(index ,score))"
   ]
  },
  {
   "cell_type": "code",
   "execution_count": 87,
   "metadata": {},
   "outputs": [
    {
     "name": "stdout",
     "output_type": "stream",
     "text": [
      "Fold : 1 , Score : 0.68\n",
      "Fold : 2 , Score : 0.88\n",
      "Fold : 3 , Score : 0.9583333333333334\n",
      "Fold : 4 , Score : 0.7916666666666666\n",
      "Fold : 5 , Score : 0.7916666666666666\n",
      "Fold : 6 , Score : 0.7916666666666666\n",
      "Fold : 7 , Score : 0.7916666666666666\n",
      "Fold : 8 , Score : 0.875\n",
      "Fold : 9 , Score : 0.7916666666666666\n",
      "Fold : 10 , Score : 0.7916666666666666\n",
      "Using best score\n",
      "Accuracy Score : 0.9583333333333334\n"
     ]
    },
    {
     "data": {
      "image/png": "[encoded data removed]",
      "text/plain": [
       "<matplotlib.figure.Figure at 0x7fdbad0d8a58>"
      ]
     },
     "metadata": {},
     "output_type": "display_data"
    }
   ],
   "source": [
    "from sklearn.model_selection import StratifiedKFold\n",
    "def test_stratified_fold(clf , X , y , n_fold):\n",
    "    \n",
    "    best_score = -100\n",
    "    best_index = 0\n",
    "    best_data = None\n",
    "    \n",
    "    skf = StratifiedKFold(n_splits= n_fold)\n",
    "    \n",
    "    current_index = 0\n",
    "    \n",
    "    for train_index , test_index in skf.split(X , y):\n",
    "        X_train , y_train = X[train_index] , y.iloc[train_index]\n",
    "        X_test , y_test = X[test_index] , y.iloc[test_index]\n",
    "        \n",
    "        clf.fit(X_train , y_train)\n",
    "        predictions = clf.predict(X_test)\n",
    "        score = accuracy_score(y_test , predictions)\n",
    "        print(\"Fold : {} , Score : {}\".format(current_index + 1,score))\n",
    "        \n",
    "        if score > best_score:\n",
    "            best_index = current_index\n",
    "            best_score = score\n",
    "            best_data = (X_train , y_train , X_test , y_test)\n",
    "            \n",
    "        current_index += 1\n",
    "        \n",
    "    print(\"Using best score\")\n",
    "    \n",
    "    clf.fit(best_data[0] , best_data[1])\n",
    "    show_classifier_result(clf , best_data[2] , best_data[3])\n",
    "   \n",
    "        \n",
    "        \n",
    "       \n",
    "      \n",
    "    \n",
    "test_stratified_fold(des_classifier , strat_train_X_std_lda , strat_train_y , 10)"
   ]
  },
  {
   "cell_type": "code",
   "execution_count": 88,
   "metadata": {},
   "outputs": [
    {
     "name": "stdout",
     "output_type": "stream",
     "text": [
      "Accuracy Score : 0.7868852459016393\n"
     ]
    },
    {
     "data": {
      "image/png": "[encoded data removed]",
      "text/plain": [
       "<matplotlib.figure.Figure at 0x7fdbad027ef0>"
      ]
     },
     "metadata": {},
     "output_type": "display_data"
    },
    {
     "name": "stdout",
     "output_type": "stream",
     "text": [
      "Fold : 1 , Score : 0.84\n",
      "Fold : 2 , Score : 0.92\n",
      "Fold : 3 , Score : 0.9583333333333334\n",
      "Fold : 4 , Score : 0.8333333333333334\n",
      "Fold : 5 , Score : 0.8333333333333334\n",
      "Fold : 6 , Score : 0.8333333333333334\n",
      "Fold : 7 , Score : 0.8333333333333334\n",
      "Fold : 8 , Score : 0.875\n",
      "Fold : 9 , Score : 0.8333333333333334\n",
      "Fold : 10 , Score : 0.8333333333333334\n",
      "Using best score\n",
      "Accuracy Score : 0.9583333333333334\n"
     ]
    },
    {
     "data": {
      "image/png": "[encoded data removed]",
      "text/plain": [
       "<matplotlib.figure.Figure at 0x7fdbad4e6b00>"
      ]
     },
     "metadata": {},
     "output_type": "display_data"
    }
   ],
   "source": [
    "from sklearn.neighbors import KNeighborsClassifier\n",
    "neigh = KNeighborsClassifier(n_neighbors=3)\n",
    "neigh.fit(strat_train_X_std_lda, strat_train_y) \n",
    "\n",
    "\n",
    "\n",
    "show_classifier_result(neigh , strat_test_X_std_lda , strat_test_y)\n",
    "\n",
    "test_stratified_fold(neigh  , strat_train_X_std_lda , strat_train_y , 10)"
   ]
  },
  {
   "cell_type": "code",
   "execution_count": 92,
   "metadata": {},
   "outputs": [],
   "source": [
    "temp_train_y = []\n",
    "\n",
    "for y in strat_train_y:\n",
    "    temp_train_y.append(float(y))"
   ]
  },
  {
   "cell_type": "code",
   "execution_count": 98,
   "metadata": {},
   "outputs": [
    {
     "name": "stdout",
     "output_type": "stream",
     "text": [
      "Accuracy Score : 0.7377049180327869\n"
     ]
    },
    {
     "data": {
      "image/png": "[encoded data removed]",
      "text/plain": [
       "<matplotlib.figure.Figure at 0x7fdbad1aada0>"
      ]
     },
     "metadata": {},
     "output_type": "display_data"
    },
    {
     "name": "stdout",
     "output_type": "stream",
     "text": [
      "Fold : 1 , Score : 0.92\n",
      "Fold : 2 , Score : 0.92\n",
      "Fold : 3 , Score : 0.875\n",
      "Fold : 4 , Score : 0.8333333333333334\n",
      "Fold : 5 , Score : 0.8333333333333334\n",
      "Fold : 6 , Score : 0.875\n",
      "Fold : 7 , Score : 0.875\n",
      "Fold : 8 , Score : 0.875\n",
      "Fold : 9 , Score : 0.875\n",
      "Fold : 10 , Score : 0.8333333333333334\n",
      "Using best score\n",
      "Accuracy Score : 0.92\n"
     ]
    },
    {
     "data": {
      "image/png": "[encoded data removed]",
      "text/plain": [
       "<matplotlib.figure.Figure at 0x7fdbad3e98d0>"
      ]
     },
     "metadata": {},
     "output_type": "display_data"
    }
   ],
   "source": [
    "from sklearn.naive_bayes import GaussianNB\n",
    "clf = GaussianNB()\n",
    "clf.fit(strat_train_X_std_lda, strat_train_y)\n",
    "\n",
    "\n",
    "show_classifier_result(clf , strat_test_X_std_lda , strat_test_y)\n",
    "test_stratified_fold(clf  , strat_train_X_std_lda , strat_train_y , 10)"
   ]
  }
 ],
 "metadata": {
  "kernelspec": {
   "display_name": "Python 3",
   "language": "python",
   "name": "python3"
  },
  "language_info": {
   "codemirror_mode": {
    "name": "ipython",
    "version": 3
   },
   "file_extension": ".py",
   "mimetype": "text/x-python",
   "name": "python",
   "nbconvert_exporter": "python",
   "pygments_lexer": "ipython3",
   "version": "3.5.4"
  }
 },
 "nbformat": 4,
 "nbformat_minor": 2
}
